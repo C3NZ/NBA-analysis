{
 "cells": [
  {
   "cell_type": "markdown",
   "metadata": {},
   "source": [
    "# Predicting the amount of win shares that a player could potentially bring to a team"
   ]
  },
  {
   "cell_type": "markdown",
   "metadata": {},
   "source": [
    "* Previously evaluated NBA generational data\n",
    "* Curious as to what individual players bring to a team\n",
    "* Built a library for interacting and visualizing my dataset within jupyter notebook"
   ]
  },
  {
   "cell_type": "markdown",
   "metadata": {},
   "source": [
    "## But what is a win share?"
   ]
  },
  {
   "cell_type": "markdown",
   "metadata": {},
   "source": [
    "A win share is a individual player statistic that attempts to divvy up credit for team success to the indifviduals on the team"
   ]
  },
  {
   "cell_type": "markdown",
   "metadata": {},
   "source": [
    "There are different ways to measure win shares, but our stats have been normalized to never go above the maximum amount of games that can be possibly played (Either negative or positive win shares)"
   ]
  },
  {
   "cell_type": "markdown",
   "metadata": {},
   "source": [
    "## The data we're using"
   ]
  },
  {
   "cell_type": "markdown",
   "metadata": {},
   "source": [
    "The dataset we're working with contains over 50+ years of nba data, however it is nowhere near perfect"
   ]
  },
  {
   "cell_type": "markdown",
   "metadata": {},
   "source": [
    "* Tons of NaN values for earlier and current generations (not so much for current)\n",
    "* The NBA has drastically changed it's ruleset over the course of it's extistence\n",
    "* There are lots of outliers (Average career length is 4 years). Superstars play for upwards of 20. "
   ]
  },
  {
   "cell_type": "markdown",
   "metadata": {},
   "source": [
    "## Working with the code"
   ]
  },
  {
   "cell_type": "markdown",
   "metadata": {},
   "source": [
    "Accessing our custom helper functions"
   ]
  },
  {
   "cell_type": "code",
   "execution_count": 1,
   "metadata": {},
   "outputs": [],
   "source": [
    "import sys\n",
    "sys.path.append('.')\n",
    "\n",
    "# Custom regression module located within the same directory as the notebook\n",
    "from regression import obtain_linear_reg"
   ]
  },
  {
   "cell_type": "markdown",
   "metadata": {},
   "source": [
    "Just like that, we have our access to our custom helper functions and can start working obtaining data from our linear regression model that we need. Let's get to work"
   ]
  },
  {
   "cell_type": "code",
   "execution_count": 2,
   "metadata": {},
   "outputs": [],
   "source": [
    "# Grab a standard linear regression with no preprocessing/scaling done\n",
    "linear_reg = obtain_linear_reg()"
   ]
  },
  {
   "cell_type": "markdown",
   "metadata": {},
   "source": [
    "As you can see, we now have access directly to a scored linear regression model that has 23 features, a score of .92, and a mean squared error of .96"
   ]
  },
  {
   "cell_type": "code",
   "execution_count": 3,
   "metadata": {},
   "outputs": [
    {
     "data": {
      "text/html": [
       "<div>\n",
       "<style scoped>\n",
       "    .dataframe tbody tr th:only-of-type {\n",
       "        vertical-align: middle;\n",
       "    }\n",
       "\n",
       "    .dataframe tbody tr th {\n",
       "        vertical-align: top;\n",
       "    }\n",
       "\n",
       "    .dataframe thead th {\n",
       "        text-align: right;\n",
       "    }\n",
       "</style>\n",
       "<table border=\"1\" class=\"dataframe\">\n",
       "  <thead>\n",
       "    <tr style=\"text-align: right;\">\n",
       "      <th></th>\n",
       "      <th>G</th>\n",
       "      <th>GS</th>\n",
       "      <th>MP</th>\n",
       "      <th>FG</th>\n",
       "      <th>FGA</th>\n",
       "      <th>FG%</th>\n",
       "      <th>3P</th>\n",
       "      <th>3PA</th>\n",
       "      <th>3P%</th>\n",
       "      <th>2P</th>\n",
       "      <th>...</th>\n",
       "      <th>FTA</th>\n",
       "      <th>FT%</th>\n",
       "      <th>ORB</th>\n",
       "      <th>DRB</th>\n",
       "      <th>TRB</th>\n",
       "      <th>AST</th>\n",
       "      <th>STL</th>\n",
       "      <th>BLK</th>\n",
       "      <th>PF</th>\n",
       "      <th>PTS</th>\n",
       "    </tr>\n",
       "  </thead>\n",
       "  <tbody>\n",
       "    <tr>\n",
       "      <th>0</th>\n",
       "      <td>82.0</td>\n",
       "      <td>75.0</td>\n",
       "      <td>2221.0</td>\n",
       "      <td>272.0</td>\n",
       "      <td>585.0</td>\n",
       "      <td>0.465</td>\n",
       "      <td>108.0</td>\n",
       "      <td>249.0</td>\n",
       "      <td>0.434</td>\n",
       "      <td>164.0</td>\n",
       "      <td>...</td>\n",
       "      <td>98.0</td>\n",
       "      <td>0.735</td>\n",
       "      <td>59.0</td>\n",
       "      <td>193.0</td>\n",
       "      <td>252.0</td>\n",
       "      <td>138.0</td>\n",
       "      <td>46.0</td>\n",
       "      <td>30.0</td>\n",
       "      <td>225.0</td>\n",
       "      <td>724.0</td>\n",
       "    </tr>\n",
       "    <tr>\n",
       "      <th>1</th>\n",
       "      <td>6.0</td>\n",
       "      <td>0.0</td>\n",
       "      <td>30.0</td>\n",
       "      <td>5.0</td>\n",
       "      <td>10.0</td>\n",
       "      <td>0.500</td>\n",
       "      <td>0.0</td>\n",
       "      <td>0.0</td>\n",
       "      <td>0.000</td>\n",
       "      <td>5.0</td>\n",
       "      <td>...</td>\n",
       "      <td>1.0</td>\n",
       "      <td>0.000</td>\n",
       "      <td>1.0</td>\n",
       "      <td>3.0</td>\n",
       "      <td>4.0</td>\n",
       "      <td>0.0</td>\n",
       "      <td>1.0</td>\n",
       "      <td>1.0</td>\n",
       "      <td>5.0</td>\n",
       "      <td>10.0</td>\n",
       "    </tr>\n",
       "    <tr>\n",
       "      <th>2</th>\n",
       "      <td>78.0</td>\n",
       "      <td>78.0</td>\n",
       "      <td>2922.0</td>\n",
       "      <td>579.0</td>\n",
       "      <td>1169.0</td>\n",
       "      <td>0.495</td>\n",
       "      <td>5.0</td>\n",
       "      <td>16.0</td>\n",
       "      <td>0.313</td>\n",
       "      <td>574.0</td>\n",
       "      <td>...</td>\n",
       "      <td>304.0</td>\n",
       "      <td>0.757</td>\n",
       "      <td>192.0</td>\n",
       "      <td>435.0</td>\n",
       "      <td>627.0</td>\n",
       "      <td>160.0</td>\n",
       "      <td>67.0</td>\n",
       "      <td>48.0</td>\n",
       "      <td>231.0</td>\n",
       "      <td>1393.0</td>\n",
       "    </tr>\n",
       "    <tr>\n",
       "      <th>3</th>\n",
       "      <td>8.0</td>\n",
       "      <td>0.0</td>\n",
       "      <td>29.0</td>\n",
       "      <td>1.0</td>\n",
       "      <td>6.0</td>\n",
       "      <td>0.167</td>\n",
       "      <td>0.0</td>\n",
       "      <td>1.0</td>\n",
       "      <td>0.000</td>\n",
       "      <td>1.0</td>\n",
       "      <td>...</td>\n",
       "      <td>3.0</td>\n",
       "      <td>0.667</td>\n",
       "      <td>2.0</td>\n",
       "      <td>3.0</td>\n",
       "      <td>5.0</td>\n",
       "      <td>2.0</td>\n",
       "      <td>1.0</td>\n",
       "      <td>1.0</td>\n",
       "      <td>9.0</td>\n",
       "      <td>4.0</td>\n",
       "    </tr>\n",
       "    <tr>\n",
       "      <th>4</th>\n",
       "      <td>51.0</td>\n",
       "      <td>3.0</td>\n",
       "      <td>456.0</td>\n",
       "      <td>46.0</td>\n",
       "      <td>116.0</td>\n",
       "      <td>0.397</td>\n",
       "      <td>1.0</td>\n",
       "      <td>6.0</td>\n",
       "      <td>0.167</td>\n",
       "      <td>45.0</td>\n",
       "      <td>...</td>\n",
       "      <td>13.0</td>\n",
       "      <td>0.923</td>\n",
       "      <td>36.0</td>\n",
       "      <td>46.0</td>\n",
       "      <td>82.0</td>\n",
       "      <td>16.0</td>\n",
       "      <td>11.0</td>\n",
       "      <td>5.0</td>\n",
       "      <td>68.0</td>\n",
       "      <td>105.0</td>\n",
       "    </tr>\n",
       "    <tr>\n",
       "      <th>5</th>\n",
       "      <td>80.0</td>\n",
       "      <td>80.0</td>\n",
       "      <td>2819.0</td>\n",
       "      <td>464.0</td>\n",
       "      <td>973.0</td>\n",
       "      <td>0.477</td>\n",
       "      <td>145.0</td>\n",
       "      <td>399.0</td>\n",
       "      <td>0.363</td>\n",
       "      <td>319.0</td>\n",
       "      <td>...</td>\n",
       "      <td>253.0</td>\n",
       "      <td>0.913</td>\n",
       "      <td>45.0</td>\n",
       "      <td>208.0</td>\n",
       "      <td>253.0</td>\n",
       "      <td>210.0</td>\n",
       "      <td>64.0</td>\n",
       "      <td>25.0</td>\n",
       "      <td>182.0</td>\n",
       "      <td>1304.0</td>\n",
       "    </tr>\n",
       "    <tr>\n",
       "      <th>6</th>\n",
       "      <td>54.0</td>\n",
       "      <td>8.0</td>\n",
       "      <td>889.0</td>\n",
       "      <td>129.0</td>\n",
       "      <td>253.0</td>\n",
       "      <td>0.510</td>\n",
       "      <td>0.0</td>\n",
       "      <td>5.0</td>\n",
       "      <td>0.000</td>\n",
       "      <td>129.0</td>\n",
       "      <td>...</td>\n",
       "      <td>119.0</td>\n",
       "      <td>0.605</td>\n",
       "      <td>52.0</td>\n",
       "      <td>93.0</td>\n",
       "      <td>145.0</td>\n",
       "      <td>72.0</td>\n",
       "      <td>59.0</td>\n",
       "      <td>19.0</td>\n",
       "      <td>109.0</td>\n",
       "      <td>330.0</td>\n",
       "    </tr>\n",
       "    <tr>\n",
       "      <th>7</th>\n",
       "      <td>52.0</td>\n",
       "      <td>38.0</td>\n",
       "      <td>1421.0</td>\n",
       "      <td>155.0</td>\n",
       "      <td>446.0</td>\n",
       "      <td>0.348</td>\n",
       "      <td>58.0</td>\n",
       "      <td>168.0</td>\n",
       "      <td>0.345</td>\n",
       "      <td>97.0</td>\n",
       "      <td>...</td>\n",
       "      <td>81.0</td>\n",
       "      <td>0.728</td>\n",
       "      <td>13.0</td>\n",
       "      <td>116.0</td>\n",
       "      <td>129.0</td>\n",
       "      <td>176.0</td>\n",
       "      <td>50.0</td>\n",
       "      <td>10.0</td>\n",
       "      <td>103.0</td>\n",
       "      <td>427.0</td>\n",
       "    </tr>\n",
       "    <tr>\n",
       "      <th>8</th>\n",
       "      <td>79.0</td>\n",
       "      <td>0.0</td>\n",
       "      <td>1168.0</td>\n",
       "      <td>152.0</td>\n",
       "      <td>276.0</td>\n",
       "      <td>0.551</td>\n",
       "      <td>0.0</td>\n",
       "      <td>1.0</td>\n",
       "      <td>0.000</td>\n",
       "      <td>152.0</td>\n",
       "      <td>...</td>\n",
       "      <td>123.0</td>\n",
       "      <td>0.545</td>\n",
       "      <td>128.0</td>\n",
       "      <td>218.0</td>\n",
       "      <td>346.0</td>\n",
       "      <td>31.0</td>\n",
       "      <td>24.0</td>\n",
       "      <td>73.0</td>\n",
       "      <td>169.0</td>\n",
       "      <td>371.0</td>\n",
       "    </tr>\n",
       "    <tr>\n",
       "      <th>9</th>\n",
       "      <td>76.0</td>\n",
       "      <td>0.0</td>\n",
       "      <td>1695.0</td>\n",
       "      <td>142.0</td>\n",
       "      <td>251.0</td>\n",
       "      <td>0.566</td>\n",
       "      <td>0.0</td>\n",
       "      <td>3.0</td>\n",
       "      <td>0.000</td>\n",
       "      <td>142.0</td>\n",
       "      <td>...</td>\n",
       "      <td>236.0</td>\n",
       "      <td>0.695</td>\n",
       "      <td>147.0</td>\n",
       "      <td>336.0</td>\n",
       "      <td>483.0</td>\n",
       "      <td>33.0</td>\n",
       "      <td>42.0</td>\n",
       "      <td>143.0</td>\n",
       "      <td>171.0</td>\n",
       "      <td>448.0</td>\n",
       "    </tr>\n",
       "    <tr>\n",
       "      <th>10</th>\n",
       "      <td>63.0</td>\n",
       "      <td>0.0</td>\n",
       "      <td>891.0</td>\n",
       "      <td>147.0</td>\n",
       "      <td>340.0</td>\n",
       "      <td>0.432</td>\n",
       "      <td>27.0</td>\n",
       "      <td>78.0</td>\n",
       "      <td>0.346</td>\n",
       "      <td>120.0</td>\n",
       "      <td>...</td>\n",
       "      <td>67.0</td>\n",
       "      <td>0.687</td>\n",
       "      <td>54.0</td>\n",
       "      <td>154.0</td>\n",
       "      <td>208.0</td>\n",
       "      <td>44.0</td>\n",
       "      <td>15.0</td>\n",
       "      <td>12.0</td>\n",
       "      <td>119.0</td>\n",
       "      <td>367.0</td>\n",
       "    </tr>\n",
       "    <tr>\n",
       "      <th>11</th>\n",
       "      <td>1.0</td>\n",
       "      <td>0.0</td>\n",
       "      <td>15.0</td>\n",
       "      <td>1.0</td>\n",
       "      <td>3.0</td>\n",
       "      <td>0.333</td>\n",
       "      <td>0.0</td>\n",
       "      <td>0.0</td>\n",
       "      <td>0.000</td>\n",
       "      <td>1.0</td>\n",
       "      <td>...</td>\n",
       "      <td>0.0</td>\n",
       "      <td>0.000</td>\n",
       "      <td>1.0</td>\n",
       "      <td>0.0</td>\n",
       "      <td>1.0</td>\n",
       "      <td>0.0</td>\n",
       "      <td>0.0</td>\n",
       "      <td>0.0</td>\n",
       "      <td>1.0</td>\n",
       "      <td>2.0</td>\n",
       "    </tr>\n",
       "    <tr>\n",
       "      <th>12</th>\n",
       "      <td>63.0</td>\n",
       "      <td>6.0</td>\n",
       "      <td>911.0</td>\n",
       "      <td>169.0</td>\n",
       "      <td>388.0</td>\n",
       "      <td>0.436</td>\n",
       "      <td>78.0</td>\n",
       "      <td>211.0</td>\n",
       "      <td>0.370</td>\n",
       "      <td>91.0</td>\n",
       "      <td>...</td>\n",
       "      <td>82.0</td>\n",
       "      <td>0.866</td>\n",
       "      <td>70.0</td>\n",
       "      <td>132.0</td>\n",
       "      <td>202.0</td>\n",
       "      <td>37.0</td>\n",
       "      <td>25.0</td>\n",
       "      <td>14.0</td>\n",
       "      <td>81.0</td>\n",
       "      <td>487.0</td>\n",
       "    </tr>\n",
       "    <tr>\n",
       "      <th>13</th>\n",
       "      <td>69.0</td>\n",
       "      <td>69.0</td>\n",
       "      <td>2634.0</td>\n",
       "      <td>688.0</td>\n",
       "      <td>1502.0</td>\n",
       "      <td>0.458</td>\n",
       "      <td>59.0</td>\n",
       "      <td>187.0</td>\n",
       "      <td>0.316</td>\n",
       "      <td>629.0</td>\n",
       "      <td>...</td>\n",
       "      <td>612.0</td>\n",
       "      <td>0.830</td>\n",
       "      <td>152.0</td>\n",
       "      <td>302.0</td>\n",
       "      <td>454.0</td>\n",
       "      <td>222.0</td>\n",
       "      <td>88.0</td>\n",
       "      <td>30.0</td>\n",
       "      <td>225.0</td>\n",
       "      <td>1943.0</td>\n",
       "    </tr>\n",
       "    <tr>\n",
       "      <th>14</th>\n",
       "      <td>80.0</td>\n",
       "      <td>16.0</td>\n",
       "      <td>1322.0</td>\n",
       "      <td>76.0</td>\n",
       "      <td>159.0</td>\n",
       "      <td>0.478</td>\n",
       "      <td>0.0</td>\n",
       "      <td>0.0</td>\n",
       "      <td>0.000</td>\n",
       "      <td>76.0</td>\n",
       "      <td>...</td>\n",
       "      <td>92.0</td>\n",
       "      <td>0.717</td>\n",
       "      <td>123.0</td>\n",
       "      <td>126.0</td>\n",
       "      <td>249.0</td>\n",
       "      <td>12.0</td>\n",
       "      <td>20.0</td>\n",
       "      <td>109.0</td>\n",
       "      <td>158.0</td>\n",
       "      <td>218.0</td>\n",
       "    </tr>\n",
       "    <tr>\n",
       "      <th>15</th>\n",
       "      <td>32.0</td>\n",
       "      <td>32.0</td>\n",
       "      <td>1169.0</td>\n",
       "      <td>253.0</td>\n",
       "      <td>616.0</td>\n",
       "      <td>0.411</td>\n",
       "      <td>63.0</td>\n",
       "      <td>181.0</td>\n",
       "      <td>0.348</td>\n",
       "      <td>190.0</td>\n",
       "      <td>...</td>\n",
       "      <td>207.0</td>\n",
       "      <td>0.739</td>\n",
       "      <td>17.0</td>\n",
       "      <td>116.0</td>\n",
       "      <td>133.0</td>\n",
       "      <td>230.0</td>\n",
       "      <td>41.0</td>\n",
       "      <td>9.0</td>\n",
       "      <td>95.0</td>\n",
       "      <td>722.0</td>\n",
       "    </tr>\n",
       "    <tr>\n",
       "      <th>16</th>\n",
       "      <td>72.0</td>\n",
       "      <td>71.0</td>\n",
       "      <td>2629.0</td>\n",
       "      <td>394.0</td>\n",
       "      <td>999.0</td>\n",
       "      <td>0.394</td>\n",
       "      <td>136.0</td>\n",
       "      <td>407.0</td>\n",
       "      <td>0.334</td>\n",
       "      <td>258.0</td>\n",
       "      <td>...</td>\n",
       "      <td>228.0</td>\n",
       "      <td>0.649</td>\n",
       "      <td>78.0</td>\n",
       "      <td>325.0</td>\n",
       "      <td>403.0</td>\n",
       "      <td>276.0</td>\n",
       "      <td>126.0</td>\n",
       "      <td>40.0</td>\n",
       "      <td>162.0</td>\n",
       "      <td>1072.0</td>\n",
       "    </tr>\n",
       "    <tr>\n",
       "      <th>17</th>\n",
       "      <td>33.0</td>\n",
       "      <td>0.0</td>\n",
       "      <td>335.0</td>\n",
       "      <td>28.0</td>\n",
       "      <td>79.0</td>\n",
       "      <td>0.354</td>\n",
       "      <td>0.0</td>\n",
       "      <td>1.0</td>\n",
       "      <td>0.000</td>\n",
       "      <td>28.0</td>\n",
       "      <td>...</td>\n",
       "      <td>32.0</td>\n",
       "      <td>0.469</td>\n",
       "      <td>27.0</td>\n",
       "      <td>54.0</td>\n",
       "      <td>81.0</td>\n",
       "      <td>21.0</td>\n",
       "      <td>15.0</td>\n",
       "      <td>12.0</td>\n",
       "      <td>59.0</td>\n",
       "      <td>71.0</td>\n",
       "    </tr>\n",
       "    <tr>\n",
       "      <th>18</th>\n",
       "      <td>72.0</td>\n",
       "      <td>35.0</td>\n",
       "      <td>1585.0</td>\n",
       "      <td>178.0</td>\n",
       "      <td>375.0</td>\n",
       "      <td>0.475</td>\n",
       "      <td>7.0</td>\n",
       "      <td>25.0</td>\n",
       "      <td>0.280</td>\n",
       "      <td>171.0</td>\n",
       "      <td>...</td>\n",
       "      <td>90.0</td>\n",
       "      <td>0.844</td>\n",
       "      <td>26.0</td>\n",
       "      <td>104.0</td>\n",
       "      <td>130.0</td>\n",
       "      <td>225.0</td>\n",
       "      <td>36.0</td>\n",
       "      <td>6.0</td>\n",
       "      <td>102.0</td>\n",
       "      <td>439.0</td>\n",
       "    </tr>\n",
       "    <tr>\n",
       "      <th>19</th>\n",
       "      <td>32.0</td>\n",
       "      <td>1.0</td>\n",
       "      <td>457.0</td>\n",
       "      <td>63.0</td>\n",
       "      <td>146.0</td>\n",
       "      <td>0.432</td>\n",
       "      <td>0.0</td>\n",
       "      <td>1.0</td>\n",
       "      <td>0.000</td>\n",
       "      <td>63.0</td>\n",
       "      <td>...</td>\n",
       "      <td>30.0</td>\n",
       "      <td>0.567</td>\n",
       "      <td>37.0</td>\n",
       "      <td>73.0</td>\n",
       "      <td>110.0</td>\n",
       "      <td>15.0</td>\n",
       "      <td>14.0</td>\n",
       "      <td>14.0</td>\n",
       "      <td>60.0</td>\n",
       "      <td>143.0</td>\n",
       "    </tr>\n",
       "    <tr>\n",
       "      <th>20</th>\n",
       "      <td>40.0</td>\n",
       "      <td>11.0</td>\n",
       "      <td>644.0</td>\n",
       "      <td>57.0</td>\n",
       "      <td>157.0</td>\n",
       "      <td>0.363</td>\n",
       "      <td>22.0</td>\n",
       "      <td>73.0</td>\n",
       "      <td>0.301</td>\n",
       "      <td>35.0</td>\n",
       "      <td>...</td>\n",
       "      <td>27.0</td>\n",
       "      <td>0.926</td>\n",
       "      <td>5.0</td>\n",
       "      <td>24.0</td>\n",
       "      <td>29.0</td>\n",
       "      <td>91.0</td>\n",
       "      <td>17.0</td>\n",
       "      <td>0.0</td>\n",
       "      <td>53.0</td>\n",
       "      <td>161.0</td>\n",
       "    </tr>\n",
       "    <tr>\n",
       "      <th>21</th>\n",
       "      <td>80.0</td>\n",
       "      <td>2.0</td>\n",
       "      <td>1472.0</td>\n",
       "      <td>168.0</td>\n",
       "      <td>435.0</td>\n",
       "      <td>0.386</td>\n",
       "      <td>70.0</td>\n",
       "      <td>178.0</td>\n",
       "      <td>0.393</td>\n",
       "      <td>98.0</td>\n",
       "      <td>...</td>\n",
       "      <td>131.0</td>\n",
       "      <td>0.779</td>\n",
       "      <td>11.0</td>\n",
       "      <td>86.0</td>\n",
       "      <td>97.0</td>\n",
       "      <td>193.0</td>\n",
       "      <td>45.0</td>\n",
       "      <td>5.0</td>\n",
       "      <td>127.0</td>\n",
       "      <td>508.0</td>\n",
       "    </tr>\n",
       "    <tr>\n",
       "      <th>22</th>\n",
       "      <td>39.0</td>\n",
       "      <td>4.0</td>\n",
       "      <td>405.0</td>\n",
       "      <td>43.0</td>\n",
       "      <td>65.0</td>\n",
       "      <td>0.662</td>\n",
       "      <td>0.0</td>\n",
       "      <td>0.0</td>\n",
       "      <td>0.000</td>\n",
       "      <td>43.0</td>\n",
       "      <td>...</td>\n",
       "      <td>20.0</td>\n",
       "      <td>0.900</td>\n",
       "      <td>25.0</td>\n",
       "      <td>73.0</td>\n",
       "      <td>98.0</td>\n",
       "      <td>1.0</td>\n",
       "      <td>7.0</td>\n",
       "      <td>16.0</td>\n",
       "      <td>76.0</td>\n",
       "      <td>104.0</td>\n",
       "    </tr>\n",
       "    <tr>\n",
       "      <th>23</th>\n",
       "      <td>9.0</td>\n",
       "      <td>7.0</td>\n",
       "      <td>231.0</td>\n",
       "      <td>48.0</td>\n",
       "      <td>88.0</td>\n",
       "      <td>0.545</td>\n",
       "      <td>10.0</td>\n",
       "      <td>27.0</td>\n",
       "      <td>0.370</td>\n",
       "      <td>38.0</td>\n",
       "      <td>...</td>\n",
       "      <td>28.0</td>\n",
       "      <td>0.679</td>\n",
       "      <td>12.0</td>\n",
       "      <td>29.0</td>\n",
       "      <td>41.0</td>\n",
       "      <td>10.0</td>\n",
       "      <td>5.0</td>\n",
       "      <td>9.0</td>\n",
       "      <td>16.0</td>\n",
       "      <td>125.0</td>\n",
       "    </tr>\n",
       "    <tr>\n",
       "      <th>24</th>\n",
       "      <td>13.0</td>\n",
       "      <td>1.0</td>\n",
       "      <td>91.0</td>\n",
       "      <td>6.0</td>\n",
       "      <td>18.0</td>\n",
       "      <td>0.333</td>\n",
       "      <td>0.0</td>\n",
       "      <td>7.0</td>\n",
       "      <td>0.000</td>\n",
       "      <td>6.0</td>\n",
       "      <td>...</td>\n",
       "      <td>6.0</td>\n",
       "      <td>0.333</td>\n",
       "      <td>4.0</td>\n",
       "      <td>19.0</td>\n",
       "      <td>23.0</td>\n",
       "      <td>7.0</td>\n",
       "      <td>8.0</td>\n",
       "      <td>2.0</td>\n",
       "      <td>16.0</td>\n",
       "      <td>14.0</td>\n",
       "    </tr>\n",
       "    <tr>\n",
       "      <th>25</th>\n",
       "      <td>22.0</td>\n",
       "      <td>0.0</td>\n",
       "      <td>244.0</td>\n",
       "      <td>39.0</td>\n",
       "      <td>73.0</td>\n",
       "      <td>0.534</td>\n",
       "      <td>7.0</td>\n",
       "      <td>24.0</td>\n",
       "      <td>0.292</td>\n",
       "      <td>32.0</td>\n",
       "      <td>...</td>\n",
       "      <td>29.0</td>\n",
       "      <td>0.828</td>\n",
       "      <td>3.0</td>\n",
       "      <td>20.0</td>\n",
       "      <td>23.0</td>\n",
       "      <td>26.0</td>\n",
       "      <td>12.0</td>\n",
       "      <td>2.0</td>\n",
       "      <td>30.0</td>\n",
       "      <td>109.0</td>\n",
       "    </tr>\n",
       "    <tr>\n",
       "      <th>26</th>\n",
       "      <td>44.0</td>\n",
       "      <td>5.0</td>\n",
       "      <td>786.0</td>\n",
       "      <td>155.0</td>\n",
       "      <td>365.0</td>\n",
       "      <td>0.425</td>\n",
       "      <td>44.0</td>\n",
       "      <td>136.0</td>\n",
       "      <td>0.324</td>\n",
       "      <td>111.0</td>\n",
       "      <td>...</td>\n",
       "      <td>73.0</td>\n",
       "      <td>0.877</td>\n",
       "      <td>11.0</td>\n",
       "      <td>58.0</td>\n",
       "      <td>69.0</td>\n",
       "      <td>64.0</td>\n",
       "      <td>23.0</td>\n",
       "      <td>12.0</td>\n",
       "      <td>71.0</td>\n",
       "      <td>418.0</td>\n",
       "    </tr>\n",
       "    <tr>\n",
       "      <th>27</th>\n",
       "      <td>78.0</td>\n",
       "      <td>18.0</td>\n",
       "      <td>1546.0</td>\n",
       "      <td>232.0</td>\n",
       "      <td>527.0</td>\n",
       "      <td>0.440</td>\n",
       "      <td>56.0</td>\n",
       "      <td>157.0</td>\n",
       "      <td>0.357</td>\n",
       "      <td>176.0</td>\n",
       "      <td>...</td>\n",
       "      <td>90.0</td>\n",
       "      <td>0.844</td>\n",
       "      <td>17.0</td>\n",
       "      <td>129.0</td>\n",
       "      <td>146.0</td>\n",
       "      <td>258.0</td>\n",
       "      <td>35.0</td>\n",
       "      <td>6.0</td>\n",
       "      <td>119.0</td>\n",
       "      <td>596.0</td>\n",
       "    </tr>\n",
       "    <tr>\n",
       "      <th>28</th>\n",
       "      <td>80.0</td>\n",
       "      <td>80.0</td>\n",
       "      <td>2799.0</td>\n",
       "      <td>537.0</td>\n",
       "      <td>1143.0</td>\n",
       "      <td>0.470</td>\n",
       "      <td>121.0</td>\n",
       "      <td>325.0</td>\n",
       "      <td>0.372</td>\n",
       "      <td>416.0</td>\n",
       "      <td>...</td>\n",
       "      <td>234.0</td>\n",
       "      <td>0.774</td>\n",
       "      <td>105.0</td>\n",
       "      <td>388.0</td>\n",
       "      <td>493.0</td>\n",
       "      <td>93.0</td>\n",
       "      <td>25.0</td>\n",
       "      <td>111.0</td>\n",
       "      <td>215.0</td>\n",
       "      <td>1376.0</td>\n",
       "    </tr>\n",
       "    <tr>\n",
       "      <th>29</th>\n",
       "      <td>81.0</td>\n",
       "      <td>58.0</td>\n",
       "      <td>2097.0</td>\n",
       "      <td>271.0</td>\n",
       "      <td>557.0</td>\n",
       "      <td>0.487</td>\n",
       "      <td>66.0</td>\n",
       "      <td>207.0</td>\n",
       "      <td>0.319</td>\n",
       "      <td>205.0</td>\n",
       "      <td>...</td>\n",
       "      <td>146.0</td>\n",
       "      <td>0.740</td>\n",
       "      <td>106.0</td>\n",
       "      <td>339.0</td>\n",
       "      <td>445.0</td>\n",
       "      <td>134.0</td>\n",
       "      <td>59.0</td>\n",
       "      <td>30.0</td>\n",
       "      <td>185.0</td>\n",
       "      <td>716.0</td>\n",
       "    </tr>\n",
       "    <tr>\n",
       "      <th>...</th>\n",
       "      <td>...</td>\n",
       "      <td>...</td>\n",
       "      <td>...</td>\n",
       "      <td>...</td>\n",
       "      <td>...</td>\n",
       "      <td>...</td>\n",
       "      <td>...</td>\n",
       "      <td>...</td>\n",
       "      <td>...</td>\n",
       "      <td>...</td>\n",
       "      <td>...</td>\n",
       "      <td>...</td>\n",
       "      <td>...</td>\n",
       "      <td>...</td>\n",
       "      <td>...</td>\n",
       "      <td>...</td>\n",
       "      <td>...</td>\n",
       "      <td>...</td>\n",
       "      <td>...</td>\n",
       "      <td>...</td>\n",
       "      <td>...</td>\n",
       "    </tr>\n",
       "    <tr>\n",
       "      <th>3745</th>\n",
       "      <td>68.0</td>\n",
       "      <td>0.0</td>\n",
       "      <td>854.0</td>\n",
       "      <td>135.0</td>\n",
       "      <td>252.0</td>\n",
       "      <td>0.536</td>\n",
       "      <td>3.0</td>\n",
       "      <td>8.0</td>\n",
       "      <td>0.375</td>\n",
       "      <td>132.0</td>\n",
       "      <td>...</td>\n",
       "      <td>56.0</td>\n",
       "      <td>0.768</td>\n",
       "      <td>47.0</td>\n",
       "      <td>156.0</td>\n",
       "      <td>203.0</td>\n",
       "      <td>151.0</td>\n",
       "      <td>42.0</td>\n",
       "      <td>48.0</td>\n",
       "      <td>105.0</td>\n",
       "      <td>316.0</td>\n",
       "    </tr>\n",
       "    <tr>\n",
       "      <th>3746</th>\n",
       "      <td>81.0</td>\n",
       "      <td>81.0</td>\n",
       "      <td>2802.0</td>\n",
       "      <td>824.0</td>\n",
       "      <td>1941.0</td>\n",
       "      <td>0.425</td>\n",
       "      <td>200.0</td>\n",
       "      <td>583.0</td>\n",
       "      <td>0.343</td>\n",
       "      <td>624.0</td>\n",
       "      <td>...</td>\n",
       "      <td>840.0</td>\n",
       "      <td>0.845</td>\n",
       "      <td>137.0</td>\n",
       "      <td>727.0</td>\n",
       "      <td>864.0</td>\n",
       "      <td>840.0</td>\n",
       "      <td>133.0</td>\n",
       "      <td>31.0</td>\n",
       "      <td>190.0</td>\n",
       "      <td>2558.0</td>\n",
       "    </tr>\n",
       "    <tr>\n",
       "      <th>3747</th>\n",
       "      <td>35.0</td>\n",
       "      <td>0.0</td>\n",
       "      <td>471.0</td>\n",
       "      <td>33.0</td>\n",
       "      <td>87.0</td>\n",
       "      <td>0.379</td>\n",
       "      <td>12.0</td>\n",
       "      <td>34.0</td>\n",
       "      <td>0.353</td>\n",
       "      <td>21.0</td>\n",
       "      <td>...</td>\n",
       "      <td>22.0</td>\n",
       "      <td>0.909</td>\n",
       "      <td>25.0</td>\n",
       "      <td>57.0</td>\n",
       "      <td>82.0</td>\n",
       "      <td>21.0</td>\n",
       "      <td>10.0</td>\n",
       "      <td>10.0</td>\n",
       "      <td>52.0</td>\n",
       "      <td>98.0</td>\n",
       "    </tr>\n",
       "    <tr>\n",
       "      <th>3748</th>\n",
       "      <td>73.0</td>\n",
       "      <td>26.0</td>\n",
       "      <td>1643.0</td>\n",
       "      <td>204.0</td>\n",
       "      <td>508.0</td>\n",
       "      <td>0.402</td>\n",
       "      <td>44.0</td>\n",
       "      <td>149.0</td>\n",
       "      <td>0.295</td>\n",
       "      <td>160.0</td>\n",
       "      <td>...</td>\n",
       "      <td>113.0</td>\n",
       "      <td>0.805</td>\n",
       "      <td>32.0</td>\n",
       "      <td>152.0</td>\n",
       "      <td>184.0</td>\n",
       "      <td>192.0</td>\n",
       "      <td>42.0</td>\n",
       "      <td>36.0</td>\n",
       "      <td>175.0</td>\n",
       "      <td>543.0</td>\n",
       "    </tr>\n",
       "    <tr>\n",
       "      <th>3749</th>\n",
       "      <td>77.0</td>\n",
       "      <td>77.0</td>\n",
       "      <td>2513.0</td>\n",
       "      <td>542.0</td>\n",
       "      <td>973.0</td>\n",
       "      <td>0.557</td>\n",
       "      <td>0.0</td>\n",
       "      <td>0.0</td>\n",
       "      <td>0.000</td>\n",
       "      <td>542.0</td>\n",
       "      <td>...</td>\n",
       "      <td>358.0</td>\n",
       "      <td>0.628</td>\n",
       "      <td>293.0</td>\n",
       "      <td>795.0</td>\n",
       "      <td>1088.0</td>\n",
       "      <td>57.0</td>\n",
       "      <td>56.0</td>\n",
       "      <td>161.0</td>\n",
       "      <td>226.0</td>\n",
       "      <td>1309.0</td>\n",
       "    </tr>\n",
       "    <tr>\n",
       "      <th>3750</th>\n",
       "      <td>82.0</td>\n",
       "      <td>82.0</td>\n",
       "      <td>3048.0</td>\n",
       "      <td>709.0</td>\n",
       "      <td>1570.0</td>\n",
       "      <td>0.452</td>\n",
       "      <td>103.0</td>\n",
       "      <td>289.0</td>\n",
       "      <td>0.356</td>\n",
       "      <td>606.0</td>\n",
       "      <td>...</td>\n",
       "      <td>542.0</td>\n",
       "      <td>0.760</td>\n",
       "      <td>103.0</td>\n",
       "      <td>226.0</td>\n",
       "      <td>329.0</td>\n",
       "      <td>189.0</td>\n",
       "      <td>82.0</td>\n",
       "      <td>30.0</td>\n",
       "      <td>183.0</td>\n",
       "      <td>1933.0</td>\n",
       "    </tr>\n",
       "    <tr>\n",
       "      <th>3751</th>\n",
       "      <td>22.0</td>\n",
       "      <td>0.0</td>\n",
       "      <td>108.0</td>\n",
       "      <td>8.0</td>\n",
       "      <td>31.0</td>\n",
       "      <td>0.258</td>\n",
       "      <td>3.0</td>\n",
       "      <td>15.0</td>\n",
       "      <td>0.200</td>\n",
       "      <td>5.0</td>\n",
       "      <td>...</td>\n",
       "      <td>2.0</td>\n",
       "      <td>1.000</td>\n",
       "      <td>4.0</td>\n",
       "      <td>8.0</td>\n",
       "      <td>12.0</td>\n",
       "      <td>12.0</td>\n",
       "      <td>2.0</td>\n",
       "      <td>1.0</td>\n",
       "      <td>8.0</td>\n",
       "      <td>21.0</td>\n",
       "    </tr>\n",
       "    <tr>\n",
       "      <th>3752</th>\n",
       "      <td>47.0</td>\n",
       "      <td>0.0</td>\n",
       "      <td>708.0</td>\n",
       "      <td>138.0</td>\n",
       "      <td>267.0</td>\n",
       "      <td>0.517</td>\n",
       "      <td>0.0</td>\n",
       "      <td>1.0</td>\n",
       "      <td>0.000</td>\n",
       "      <td>138.0</td>\n",
       "      <td>...</td>\n",
       "      <td>112.0</td>\n",
       "      <td>0.625</td>\n",
       "      <td>94.0</td>\n",
       "      <td>198.0</td>\n",
       "      <td>292.0</td>\n",
       "      <td>23.0</td>\n",
       "      <td>27.0</td>\n",
       "      <td>32.0</td>\n",
       "      <td>125.0</td>\n",
       "      <td>346.0</td>\n",
       "    </tr>\n",
       "    <tr>\n",
       "      <th>3753</th>\n",
       "      <td>64.0</td>\n",
       "      <td>44.0</td>\n",
       "      <td>1657.0</td>\n",
       "      <td>263.0</td>\n",
       "      <td>600.0</td>\n",
       "      <td>0.438</td>\n",
       "      <td>85.0</td>\n",
       "      <td>234.0</td>\n",
       "      <td>0.363</td>\n",
       "      <td>178.0</td>\n",
       "      <td>...</td>\n",
       "      <td>109.0</td>\n",
       "      <td>0.826</td>\n",
       "      <td>14.0</td>\n",
       "      <td>133.0</td>\n",
       "      <td>147.0</td>\n",
       "      <td>360.0</td>\n",
       "      <td>31.0</td>\n",
       "      <td>8.0</td>\n",
       "      <td>138.0</td>\n",
       "      <td>701.0</td>\n",
       "    </tr>\n",
       "    <tr>\n",
       "      <th>3754</th>\n",
       "      <td>50.0</td>\n",
       "      <td>11.0</td>\n",
       "      <td>804.0</td>\n",
       "      <td>108.0</td>\n",
       "      <td>244.0</td>\n",
       "      <td>0.443</td>\n",
       "      <td>30.0</td>\n",
       "      <td>97.0</td>\n",
       "      <td>0.309</td>\n",
       "      <td>78.0</td>\n",
       "      <td>...</td>\n",
       "      <td>89.0</td>\n",
       "      <td>0.652</td>\n",
       "      <td>19.0</td>\n",
       "      <td>111.0</td>\n",
       "      <td>130.0</td>\n",
       "      <td>28.0</td>\n",
       "      <td>14.0</td>\n",
       "      <td>7.0</td>\n",
       "      <td>60.0</td>\n",
       "      <td>304.0</td>\n",
       "    </tr>\n",
       "    <tr>\n",
       "      <th>3755</th>\n",
       "      <td>81.0</td>\n",
       "      <td>1.0</td>\n",
       "      <td>1994.0</td>\n",
       "      <td>428.0</td>\n",
       "      <td>998.0</td>\n",
       "      <td>0.429</td>\n",
       "      <td>163.0</td>\n",
       "      <td>446.0</td>\n",
       "      <td>0.365</td>\n",
       "      <td>265.0</td>\n",
       "      <td>...</td>\n",
       "      <td>457.0</td>\n",
       "      <td>0.880</td>\n",
       "      <td>26.0</td>\n",
       "      <td>176.0</td>\n",
       "      <td>202.0</td>\n",
       "      <td>239.0</td>\n",
       "      <td>80.0</td>\n",
       "      <td>19.0</td>\n",
       "      <td>92.0</td>\n",
       "      <td>1421.0</td>\n",
       "    </tr>\n",
       "    <tr>\n",
       "      <th>3756</th>\n",
       "      <td>76.0</td>\n",
       "      <td>76.0</td>\n",
       "      <td>2295.0</td>\n",
       "      <td>297.0</td>\n",
       "      <td>704.0</td>\n",
       "      <td>0.422</td>\n",
       "      <td>124.0</td>\n",
       "      <td>354.0</td>\n",
       "      <td>0.350</td>\n",
       "      <td>173.0</td>\n",
       "      <td>...</td>\n",
       "      <td>150.0</td>\n",
       "      <td>0.873</td>\n",
       "      <td>89.0</td>\n",
       "      <td>409.0</td>\n",
       "      <td>498.0</td>\n",
       "      <td>106.0</td>\n",
       "      <td>58.0</td>\n",
       "      <td>53.0</td>\n",
       "      <td>134.0</td>\n",
       "      <td>849.0</td>\n",
       "    </tr>\n",
       "    <tr>\n",
       "      <th>3757</th>\n",
       "      <td>6.0</td>\n",
       "      <td>0.0</td>\n",
       "      <td>79.0</td>\n",
       "      <td>8.0</td>\n",
       "      <td>23.0</td>\n",
       "      <td>0.348</td>\n",
       "      <td>5.0</td>\n",
       "      <td>11.0</td>\n",
       "      <td>0.455</td>\n",
       "      <td>3.0</td>\n",
       "      <td>...</td>\n",
       "      <td>7.0</td>\n",
       "      <td>0.857</td>\n",
       "      <td>2.0</td>\n",
       "      <td>4.0</td>\n",
       "      <td>6.0</td>\n",
       "      <td>4.0</td>\n",
       "      <td>3.0</td>\n",
       "      <td>0.0</td>\n",
       "      <td>2.0</td>\n",
       "      <td>27.0</td>\n",
       "    </tr>\n",
       "    <tr>\n",
       "      <th>3758</th>\n",
       "      <td>30.0</td>\n",
       "      <td>16.0</td>\n",
       "      <td>557.0</td>\n",
       "      <td>73.0</td>\n",
       "      <td>167.0</td>\n",
       "      <td>0.437</td>\n",
       "      <td>18.0</td>\n",
       "      <td>62.0</td>\n",
       "      <td>0.290</td>\n",
       "      <td>55.0</td>\n",
       "      <td>...</td>\n",
       "      <td>32.0</td>\n",
       "      <td>0.656</td>\n",
       "      <td>15.0</td>\n",
       "      <td>54.0</td>\n",
       "      <td>69.0</td>\n",
       "      <td>25.0</td>\n",
       "      <td>27.0</td>\n",
       "      <td>10.0</td>\n",
       "      <td>60.0</td>\n",
       "      <td>185.0</td>\n",
       "    </tr>\n",
       "    <tr>\n",
       "      <th>3759</th>\n",
       "      <td>14.0</td>\n",
       "      <td>0.0</td>\n",
       "      <td>44.0</td>\n",
       "      <td>4.0</td>\n",
       "      <td>14.0</td>\n",
       "      <td>0.286</td>\n",
       "      <td>4.0</td>\n",
       "      <td>13.0</td>\n",
       "      <td>0.308</td>\n",
       "      <td>0.0</td>\n",
       "      <td>...</td>\n",
       "      <td>2.0</td>\n",
       "      <td>0.500</td>\n",
       "      <td>4.0</td>\n",
       "      <td>6.0</td>\n",
       "      <td>10.0</td>\n",
       "      <td>2.0</td>\n",
       "      <td>3.0</td>\n",
       "      <td>1.0</td>\n",
       "      <td>4.0</td>\n",
       "      <td>13.0</td>\n",
       "    </tr>\n",
       "    <tr>\n",
       "      <th>3760</th>\n",
       "      <td>18.0</td>\n",
       "      <td>15.0</td>\n",
       "      <td>625.0</td>\n",
       "      <td>80.0</td>\n",
       "      <td>225.0</td>\n",
       "      <td>0.356</td>\n",
       "      <td>7.0</td>\n",
       "      <td>35.0</td>\n",
       "      <td>0.200</td>\n",
       "      <td>73.0</td>\n",
       "      <td>...</td>\n",
       "      <td>47.0</td>\n",
       "      <td>0.617</td>\n",
       "      <td>23.0</td>\n",
       "      <td>71.0</td>\n",
       "      <td>94.0</td>\n",
       "      <td>66.0</td>\n",
       "      <td>27.0</td>\n",
       "      <td>6.0</td>\n",
       "      <td>52.0</td>\n",
       "      <td>196.0</td>\n",
       "    </tr>\n",
       "    <tr>\n",
       "      <th>3761</th>\n",
       "      <td>51.0</td>\n",
       "      <td>1.0</td>\n",
       "      <td>432.0</td>\n",
       "      <td>55.0</td>\n",
       "      <td>103.0</td>\n",
       "      <td>0.534</td>\n",
       "      <td>0.0</td>\n",
       "      <td>1.0</td>\n",
       "      <td>0.000</td>\n",
       "      <td>55.0</td>\n",
       "      <td>...</td>\n",
       "      <td>48.0</td>\n",
       "      <td>0.750</td>\n",
       "      <td>52.0</td>\n",
       "      <td>69.0</td>\n",
       "      <td>121.0</td>\n",
       "      <td>7.0</td>\n",
       "      <td>16.0</td>\n",
       "      <td>32.0</td>\n",
       "      <td>52.0</td>\n",
       "      <td>146.0</td>\n",
       "    </tr>\n",
       "    <tr>\n",
       "      <th>3762</th>\n",
       "      <td>13.0</td>\n",
       "      <td>0.0</td>\n",
       "      <td>107.0</td>\n",
       "      <td>12.0</td>\n",
       "      <td>23.0</td>\n",
       "      <td>0.522</td>\n",
       "      <td>0.0</td>\n",
       "      <td>5.0</td>\n",
       "      <td>0.000</td>\n",
       "      <td>12.0</td>\n",
       "      <td>...</td>\n",
       "      <td>15.0</td>\n",
       "      <td>0.733</td>\n",
       "      <td>14.0</td>\n",
       "      <td>15.0</td>\n",
       "      <td>29.0</td>\n",
       "      <td>2.0</td>\n",
       "      <td>3.0</td>\n",
       "      <td>6.0</td>\n",
       "      <td>11.0</td>\n",
       "      <td>35.0</td>\n",
       "    </tr>\n",
       "    <tr>\n",
       "      <th>3763</th>\n",
       "      <td>25.0</td>\n",
       "      <td>2.0</td>\n",
       "      <td>160.0</td>\n",
       "      <td>19.0</td>\n",
       "      <td>68.0</td>\n",
       "      <td>0.279</td>\n",
       "      <td>9.0</td>\n",
       "      <td>38.0</td>\n",
       "      <td>0.237</td>\n",
       "      <td>10.0</td>\n",
       "      <td>...</td>\n",
       "      <td>16.0</td>\n",
       "      <td>0.625</td>\n",
       "      <td>5.0</td>\n",
       "      <td>15.0</td>\n",
       "      <td>20.0</td>\n",
       "      <td>11.0</td>\n",
       "      <td>9.0</td>\n",
       "      <td>2.0</td>\n",
       "      <td>18.0</td>\n",
       "      <td>57.0</td>\n",
       "    </tr>\n",
       "    <tr>\n",
       "      <th>3764</th>\n",
       "      <td>28.0</td>\n",
       "      <td>5.0</td>\n",
       "      <td>447.0</td>\n",
       "      <td>83.0</td>\n",
       "      <td>135.0</td>\n",
       "      <td>0.615</td>\n",
       "      <td>0.0</td>\n",
       "      <td>1.0</td>\n",
       "      <td>0.000</td>\n",
       "      <td>83.0</td>\n",
       "      <td>...</td>\n",
       "      <td>35.0</td>\n",
       "      <td>0.657</td>\n",
       "      <td>31.0</td>\n",
       "      <td>47.0</td>\n",
       "      <td>78.0</td>\n",
       "      <td>15.0</td>\n",
       "      <td>11.0</td>\n",
       "      <td>20.0</td>\n",
       "      <td>42.0</td>\n",
       "      <td>189.0</td>\n",
       "    </tr>\n",
       "    <tr>\n",
       "      <th>3765</th>\n",
       "      <td>27.0</td>\n",
       "      <td>0.0</td>\n",
       "      <td>446.0</td>\n",
       "      <td>49.0</td>\n",
       "      <td>116.0</td>\n",
       "      <td>0.422</td>\n",
       "      <td>10.0</td>\n",
       "      <td>30.0</td>\n",
       "      <td>0.333</td>\n",
       "      <td>39.0</td>\n",
       "      <td>...</td>\n",
       "      <td>55.0</td>\n",
       "      <td>0.764</td>\n",
       "      <td>16.0</td>\n",
       "      <td>32.0</td>\n",
       "      <td>48.0</td>\n",
       "      <td>57.0</td>\n",
       "      <td>27.0</td>\n",
       "      <td>11.0</td>\n",
       "      <td>31.0</td>\n",
       "      <td>150.0</td>\n",
       "    </tr>\n",
       "    <tr>\n",
       "      <th>3766</th>\n",
       "      <td>29.0</td>\n",
       "      <td>0.0</td>\n",
       "      <td>220.0</td>\n",
       "      <td>25.0</td>\n",
       "      <td>58.0</td>\n",
       "      <td>0.431</td>\n",
       "      <td>12.0</td>\n",
       "      <td>35.0</td>\n",
       "      <td>0.343</td>\n",
       "      <td>13.0</td>\n",
       "      <td>...</td>\n",
       "      <td>9.0</td>\n",
       "      <td>0.667</td>\n",
       "      <td>6.0</td>\n",
       "      <td>20.0</td>\n",
       "      <td>26.0</td>\n",
       "      <td>4.0</td>\n",
       "      <td>10.0</td>\n",
       "      <td>2.0</td>\n",
       "      <td>15.0</td>\n",
       "      <td>68.0</td>\n",
       "    </tr>\n",
       "    <tr>\n",
       "      <th>3767</th>\n",
       "      <td>33.0</td>\n",
       "      <td>0.0</td>\n",
       "      <td>135.0</td>\n",
       "      <td>26.0</td>\n",
       "      <td>72.0</td>\n",
       "      <td>0.361</td>\n",
       "      <td>5.0</td>\n",
       "      <td>23.0</td>\n",
       "      <td>0.217</td>\n",
       "      <td>21.0</td>\n",
       "      <td>...</td>\n",
       "      <td>15.0</td>\n",
       "      <td>0.733</td>\n",
       "      <td>1.0</td>\n",
       "      <td>16.0</td>\n",
       "      <td>17.0</td>\n",
       "      <td>15.0</td>\n",
       "      <td>4.0</td>\n",
       "      <td>0.0</td>\n",
       "      <td>5.0</td>\n",
       "      <td>68.0</td>\n",
       "    </tr>\n",
       "    <tr>\n",
       "      <th>3768</th>\n",
       "      <td>60.0</td>\n",
       "      <td>60.0</td>\n",
       "      <td>1556.0</td>\n",
       "      <td>272.0</td>\n",
       "      <td>633.0</td>\n",
       "      <td>0.430</td>\n",
       "      <td>170.0</td>\n",
       "      <td>421.0</td>\n",
       "      <td>0.404</td>\n",
       "      <td>102.0</td>\n",
       "      <td>...</td>\n",
       "      <td>90.0</td>\n",
       "      <td>0.856</td>\n",
       "      <td>25.0</td>\n",
       "      <td>112.0</td>\n",
       "      <td>137.0</td>\n",
       "      <td>58.0</td>\n",
       "      <td>37.0</td>\n",
       "      <td>14.0</td>\n",
       "      <td>137.0</td>\n",
       "      <td>791.0</td>\n",
       "    </tr>\n",
       "    <tr>\n",
       "      <th>3769</th>\n",
       "      <td>74.0</td>\n",
       "      <td>74.0</td>\n",
       "      <td>2237.0</td>\n",
       "      <td>362.0</td>\n",
       "      <td>687.0</td>\n",
       "      <td>0.527</td>\n",
       "      <td>45.0</td>\n",
       "      <td>118.0</td>\n",
       "      <td>0.381</td>\n",
       "      <td>317.0</td>\n",
       "      <td>...</td>\n",
       "      <td>86.0</td>\n",
       "      <td>0.523</td>\n",
       "      <td>131.0</td>\n",
       "      <td>318.0</td>\n",
       "      <td>449.0</td>\n",
       "      <td>122.0</td>\n",
       "      <td>114.0</td>\n",
       "      <td>30.0</td>\n",
       "      <td>135.0</td>\n",
       "      <td>814.0</td>\n",
       "    </tr>\n",
       "    <tr>\n",
       "      <th>3770</th>\n",
       "      <td>62.0</td>\n",
       "      <td>58.0</td>\n",
       "      <td>1725.0</td>\n",
       "      <td>253.0</td>\n",
       "      <td>443.0</td>\n",
       "      <td>0.571</td>\n",
       "      <td>0.0</td>\n",
       "      <td>1.0</td>\n",
       "      <td>0.000</td>\n",
       "      <td>253.0</td>\n",
       "      <td>...</td>\n",
       "      <td>196.0</td>\n",
       "      <td>0.679</td>\n",
       "      <td>135.0</td>\n",
       "      <td>270.0</td>\n",
       "      <td>405.0</td>\n",
       "      <td>99.0</td>\n",
       "      <td>62.0</td>\n",
       "      <td>58.0</td>\n",
       "      <td>189.0</td>\n",
       "      <td>639.0</td>\n",
       "    </tr>\n",
       "    <tr>\n",
       "      <th>3771</th>\n",
       "      <td>51.0</td>\n",
       "      <td>5.0</td>\n",
       "      <td>525.0</td>\n",
       "      <td>78.0</td>\n",
       "      <td>158.0</td>\n",
       "      <td>0.494</td>\n",
       "      <td>0.0</td>\n",
       "      <td>1.0</td>\n",
       "      <td>0.000</td>\n",
       "      <td>78.0</td>\n",
       "      <td>...</td>\n",
       "      <td>39.0</td>\n",
       "      <td>0.564</td>\n",
       "      <td>43.0</td>\n",
       "      <td>81.0</td>\n",
       "      <td>124.0</td>\n",
       "      <td>42.0</td>\n",
       "      <td>7.0</td>\n",
       "      <td>21.0</td>\n",
       "      <td>61.0</td>\n",
       "      <td>178.0</td>\n",
       "    </tr>\n",
       "    <tr>\n",
       "      <th>3772</th>\n",
       "      <td>19.0</td>\n",
       "      <td>0.0</td>\n",
       "      <td>108.0</td>\n",
       "      <td>10.0</td>\n",
       "      <td>31.0</td>\n",
       "      <td>0.323</td>\n",
       "      <td>0.0</td>\n",
       "      <td>0.0</td>\n",
       "      <td>0.000</td>\n",
       "      <td>10.0</td>\n",
       "      <td>...</td>\n",
       "      <td>5.0</td>\n",
       "      <td>0.600</td>\n",
       "      <td>11.0</td>\n",
       "      <td>24.0</td>\n",
       "      <td>35.0</td>\n",
       "      <td>4.0</td>\n",
       "      <td>2.0</td>\n",
       "      <td>5.0</td>\n",
       "      <td>17.0</td>\n",
       "      <td>23.0</td>\n",
       "    </tr>\n",
       "    <tr>\n",
       "      <th>3773</th>\n",
       "      <td>44.0</td>\n",
       "      <td>18.0</td>\n",
       "      <td>843.0</td>\n",
       "      <td>88.0</td>\n",
       "      <td>221.0</td>\n",
       "      <td>0.398</td>\n",
       "      <td>33.0</td>\n",
       "      <td>99.0</td>\n",
       "      <td>0.333</td>\n",
       "      <td>55.0</td>\n",
       "      <td>...</td>\n",
       "      <td>40.0</td>\n",
       "      <td>0.775</td>\n",
       "      <td>15.0</td>\n",
       "      <td>110.0</td>\n",
       "      <td>125.0</td>\n",
       "      <td>36.0</td>\n",
       "      <td>15.0</td>\n",
       "      <td>16.0</td>\n",
       "      <td>78.0</td>\n",
       "      <td>240.0</td>\n",
       "    </tr>\n",
       "    <tr>\n",
       "      <th>3774</th>\n",
       "      <td>38.0</td>\n",
       "      <td>11.0</td>\n",
       "      <td>609.0</td>\n",
       "      <td>126.0</td>\n",
       "      <td>238.0</td>\n",
       "      <td>0.529</td>\n",
       "      <td>0.0</td>\n",
       "      <td>3.0</td>\n",
       "      <td>0.000</td>\n",
       "      <td>126.0</td>\n",
       "      <td>...</td>\n",
       "      <td>49.0</td>\n",
       "      <td>0.653</td>\n",
       "      <td>41.0</td>\n",
       "      <td>118.0</td>\n",
       "      <td>159.0</td>\n",
       "      <td>30.0</td>\n",
       "      <td>14.0</td>\n",
       "      <td>33.0</td>\n",
       "      <td>66.0</td>\n",
       "      <td>284.0</td>\n",
       "    </tr>\n",
       "  </tbody>\n",
       "</table>\n",
       "<p>3775 rows × 23 columns</p>\n",
       "</div>"
      ],
      "text/plain": [
       "         G    GS      MP     FG     FGA    FG%     3P    3PA    3P%     2P  \\\n",
       "0     82.0  75.0  2221.0  272.0   585.0  0.465  108.0  249.0  0.434  164.0   \n",
       "1      6.0   0.0    30.0    5.0    10.0  0.500    0.0    0.0  0.000    5.0   \n",
       "2     78.0  78.0  2922.0  579.0  1169.0  0.495    5.0   16.0  0.313  574.0   \n",
       "3      8.0   0.0    29.0    1.0     6.0  0.167    0.0    1.0  0.000    1.0   \n",
       "4     51.0   3.0   456.0   46.0   116.0  0.397    1.0    6.0  0.167   45.0   \n",
       "5     80.0  80.0  2819.0  464.0   973.0  0.477  145.0  399.0  0.363  319.0   \n",
       "6     54.0   8.0   889.0  129.0   253.0  0.510    0.0    5.0  0.000  129.0   \n",
       "7     52.0  38.0  1421.0  155.0   446.0  0.348   58.0  168.0  0.345   97.0   \n",
       "8     79.0   0.0  1168.0  152.0   276.0  0.551    0.0    1.0  0.000  152.0   \n",
       "9     76.0   0.0  1695.0  142.0   251.0  0.566    0.0    3.0  0.000  142.0   \n",
       "10    63.0   0.0   891.0  147.0   340.0  0.432   27.0   78.0  0.346  120.0   \n",
       "11     1.0   0.0    15.0    1.0     3.0  0.333    0.0    0.0  0.000    1.0   \n",
       "12    63.0   6.0   911.0  169.0   388.0  0.436   78.0  211.0  0.370   91.0   \n",
       "13    69.0  69.0  2634.0  688.0  1502.0  0.458   59.0  187.0  0.316  629.0   \n",
       "14    80.0  16.0  1322.0   76.0   159.0  0.478    0.0    0.0  0.000   76.0   \n",
       "15    32.0  32.0  1169.0  253.0   616.0  0.411   63.0  181.0  0.348  190.0   \n",
       "16    72.0  71.0  2629.0  394.0   999.0  0.394  136.0  407.0  0.334  258.0   \n",
       "17    33.0   0.0   335.0   28.0    79.0  0.354    0.0    1.0  0.000   28.0   \n",
       "18    72.0  35.0  1585.0  178.0   375.0  0.475    7.0   25.0  0.280  171.0   \n",
       "19    32.0   1.0   457.0   63.0   146.0  0.432    0.0    1.0  0.000   63.0   \n",
       "20    40.0  11.0   644.0   57.0   157.0  0.363   22.0   73.0  0.301   35.0   \n",
       "21    80.0   2.0  1472.0  168.0   435.0  0.386   70.0  178.0  0.393   98.0   \n",
       "22    39.0   4.0   405.0   43.0    65.0  0.662    0.0    0.0  0.000   43.0   \n",
       "23     9.0   7.0   231.0   48.0    88.0  0.545   10.0   27.0  0.370   38.0   \n",
       "24    13.0   1.0    91.0    6.0    18.0  0.333    0.0    7.0  0.000    6.0   \n",
       "25    22.0   0.0   244.0   39.0    73.0  0.534    7.0   24.0  0.292   32.0   \n",
       "26    44.0   5.0   786.0  155.0   365.0  0.425   44.0  136.0  0.324  111.0   \n",
       "27    78.0  18.0  1546.0  232.0   527.0  0.440   56.0  157.0  0.357  176.0   \n",
       "28    80.0  80.0  2799.0  537.0  1143.0  0.470  121.0  325.0  0.372  416.0   \n",
       "29    81.0  58.0  2097.0  271.0   557.0  0.487   66.0  207.0  0.319  205.0   \n",
       "...    ...   ...     ...    ...     ...    ...    ...    ...    ...    ...   \n",
       "3745  68.0   0.0   854.0  135.0   252.0  0.536    3.0    8.0  0.375  132.0   \n",
       "3746  81.0  81.0  2802.0  824.0  1941.0  0.425  200.0  583.0  0.343  624.0   \n",
       "3747  35.0   0.0   471.0   33.0    87.0  0.379   12.0   34.0  0.353   21.0   \n",
       "3748  73.0  26.0  1643.0  204.0   508.0  0.402   44.0  149.0  0.295  160.0   \n",
       "3749  77.0  77.0  2513.0  542.0   973.0  0.557    0.0    0.0  0.000  542.0   \n",
       "3750  82.0  82.0  3048.0  709.0  1570.0  0.452  103.0  289.0  0.356  606.0   \n",
       "3751  22.0   0.0   108.0    8.0    31.0  0.258    3.0   15.0  0.200    5.0   \n",
       "3752  47.0   0.0   708.0  138.0   267.0  0.517    0.0    1.0  0.000  138.0   \n",
       "3753  64.0  44.0  1657.0  263.0   600.0  0.438   85.0  234.0  0.363  178.0   \n",
       "3754  50.0  11.0   804.0  108.0   244.0  0.443   30.0   97.0  0.309   78.0   \n",
       "3755  81.0   1.0  1994.0  428.0   998.0  0.429  163.0  446.0  0.365  265.0   \n",
       "3756  76.0  76.0  2295.0  297.0   704.0  0.422  124.0  354.0  0.350  173.0   \n",
       "3757   6.0   0.0    79.0    8.0    23.0  0.348    5.0   11.0  0.455    3.0   \n",
       "3758  30.0  16.0   557.0   73.0   167.0  0.437   18.0   62.0  0.290   55.0   \n",
       "3759  14.0   0.0    44.0    4.0    14.0  0.286    4.0   13.0  0.308    0.0   \n",
       "3760  18.0  15.0   625.0   80.0   225.0  0.356    7.0   35.0  0.200   73.0   \n",
       "3761  51.0   1.0   432.0   55.0   103.0  0.534    0.0    1.0  0.000   55.0   \n",
       "3762  13.0   0.0   107.0   12.0    23.0  0.522    0.0    5.0  0.000   12.0   \n",
       "3763  25.0   2.0   160.0   19.0    68.0  0.279    9.0   38.0  0.237   10.0   \n",
       "3764  28.0   5.0   447.0   83.0   135.0  0.615    0.0    1.0  0.000   83.0   \n",
       "3765  27.0   0.0   446.0   49.0   116.0  0.422   10.0   30.0  0.333   39.0   \n",
       "3766  29.0   0.0   220.0   25.0    58.0  0.431   12.0   35.0  0.343   13.0   \n",
       "3767  33.0   0.0   135.0   26.0    72.0  0.361    5.0   23.0  0.217   21.0   \n",
       "3768  60.0  60.0  1556.0  272.0   633.0  0.430  170.0  421.0  0.404  102.0   \n",
       "3769  74.0  74.0  2237.0  362.0   687.0  0.527   45.0  118.0  0.381  317.0   \n",
       "3770  62.0  58.0  1725.0  253.0   443.0  0.571    0.0    1.0  0.000  253.0   \n",
       "3771  51.0   5.0   525.0   78.0   158.0  0.494    0.0    1.0  0.000   78.0   \n",
       "3772  19.0   0.0   108.0   10.0    31.0  0.323    0.0    0.0  0.000   10.0   \n",
       "3773  44.0  18.0   843.0   88.0   221.0  0.398   33.0   99.0  0.333   55.0   \n",
       "3774  38.0  11.0   609.0  126.0   238.0  0.529    0.0    3.0  0.000  126.0   \n",
       "\n",
       "       ...      FTA    FT%    ORB    DRB     TRB    AST    STL    BLK     PF  \\\n",
       "0      ...     98.0  0.735   59.0  193.0   252.0  138.0   46.0   30.0  225.0   \n",
       "1      ...      1.0  0.000    1.0    3.0     4.0    0.0    1.0    1.0    5.0   \n",
       "2      ...    304.0  0.757  192.0  435.0   627.0  160.0   67.0   48.0  231.0   \n",
       "3      ...      3.0  0.667    2.0    3.0     5.0    2.0    1.0    1.0    9.0   \n",
       "4      ...     13.0  0.923   36.0   46.0    82.0   16.0   11.0    5.0   68.0   \n",
       "5      ...    253.0  0.913   45.0  208.0   253.0  210.0   64.0   25.0  182.0   \n",
       "6      ...    119.0  0.605   52.0   93.0   145.0   72.0   59.0   19.0  109.0   \n",
       "7      ...     81.0  0.728   13.0  116.0   129.0  176.0   50.0   10.0  103.0   \n",
       "8      ...    123.0  0.545  128.0  218.0   346.0   31.0   24.0   73.0  169.0   \n",
       "9      ...    236.0  0.695  147.0  336.0   483.0   33.0   42.0  143.0  171.0   \n",
       "10     ...     67.0  0.687   54.0  154.0   208.0   44.0   15.0   12.0  119.0   \n",
       "11     ...      0.0  0.000    1.0    0.0     1.0    0.0    0.0    0.0    1.0   \n",
       "12     ...     82.0  0.866   70.0  132.0   202.0   37.0   25.0   14.0   81.0   \n",
       "13     ...    612.0  0.830  152.0  302.0   454.0  222.0   88.0   30.0  225.0   \n",
       "14     ...     92.0  0.717  123.0  126.0   249.0   12.0   20.0  109.0  158.0   \n",
       "15     ...    207.0  0.739   17.0  116.0   133.0  230.0   41.0    9.0   95.0   \n",
       "16     ...    228.0  0.649   78.0  325.0   403.0  276.0  126.0   40.0  162.0   \n",
       "17     ...     32.0  0.469   27.0   54.0    81.0   21.0   15.0   12.0   59.0   \n",
       "18     ...     90.0  0.844   26.0  104.0   130.0  225.0   36.0    6.0  102.0   \n",
       "19     ...     30.0  0.567   37.0   73.0   110.0   15.0   14.0   14.0   60.0   \n",
       "20     ...     27.0  0.926    5.0   24.0    29.0   91.0   17.0    0.0   53.0   \n",
       "21     ...    131.0  0.779   11.0   86.0    97.0  193.0   45.0    5.0  127.0   \n",
       "22     ...     20.0  0.900   25.0   73.0    98.0    1.0    7.0   16.0   76.0   \n",
       "23     ...     28.0  0.679   12.0   29.0    41.0   10.0    5.0    9.0   16.0   \n",
       "24     ...      6.0  0.333    4.0   19.0    23.0    7.0    8.0    2.0   16.0   \n",
       "25     ...     29.0  0.828    3.0   20.0    23.0   26.0   12.0    2.0   30.0   \n",
       "26     ...     73.0  0.877   11.0   58.0    69.0   64.0   23.0   12.0   71.0   \n",
       "27     ...     90.0  0.844   17.0  129.0   146.0  258.0   35.0    6.0  119.0   \n",
       "28     ...    234.0  0.774  105.0  388.0   493.0   93.0   25.0  111.0  215.0   \n",
       "29     ...    146.0  0.740  106.0  339.0   445.0  134.0   59.0   30.0  185.0   \n",
       "...    ...      ...    ...    ...    ...     ...    ...    ...    ...    ...   \n",
       "3745   ...     56.0  0.768   47.0  156.0   203.0  151.0   42.0   48.0  105.0   \n",
       "3746   ...    840.0  0.845  137.0  727.0   864.0  840.0  133.0   31.0  190.0   \n",
       "3747   ...     22.0  0.909   25.0   57.0    82.0   21.0   10.0   10.0   52.0   \n",
       "3748   ...    113.0  0.805   32.0  152.0   184.0  192.0   42.0   36.0  175.0   \n",
       "3749   ...    358.0  0.628  293.0  795.0  1088.0   57.0   56.0  161.0  226.0   \n",
       "3750   ...    542.0  0.760  103.0  226.0   329.0  189.0   82.0   30.0  183.0   \n",
       "3751   ...      2.0  1.000    4.0    8.0    12.0   12.0    2.0    1.0    8.0   \n",
       "3752   ...    112.0  0.625   94.0  198.0   292.0   23.0   27.0   32.0  125.0   \n",
       "3753   ...    109.0  0.826   14.0  133.0   147.0  360.0   31.0    8.0  138.0   \n",
       "3754   ...     89.0  0.652   19.0  111.0   130.0   28.0   14.0    7.0   60.0   \n",
       "3755   ...    457.0  0.880   26.0  176.0   202.0  239.0   80.0   19.0   92.0   \n",
       "3756   ...    150.0  0.873   89.0  409.0   498.0  106.0   58.0   53.0  134.0   \n",
       "3757   ...      7.0  0.857    2.0    4.0     6.0    4.0    3.0    0.0    2.0   \n",
       "3758   ...     32.0  0.656   15.0   54.0    69.0   25.0   27.0   10.0   60.0   \n",
       "3759   ...      2.0  0.500    4.0    6.0    10.0    2.0    3.0    1.0    4.0   \n",
       "3760   ...     47.0  0.617   23.0   71.0    94.0   66.0   27.0    6.0   52.0   \n",
       "3761   ...     48.0  0.750   52.0   69.0   121.0    7.0   16.0   32.0   52.0   \n",
       "3762   ...     15.0  0.733   14.0   15.0    29.0    2.0    3.0    6.0   11.0   \n",
       "3763   ...     16.0  0.625    5.0   15.0    20.0   11.0    9.0    2.0   18.0   \n",
       "3764   ...     35.0  0.657   31.0   47.0    78.0   15.0   11.0   20.0   42.0   \n",
       "3765   ...     55.0  0.764   16.0   32.0    48.0   57.0   27.0   11.0   31.0   \n",
       "3766   ...      9.0  0.667    6.0   20.0    26.0    4.0   10.0    2.0   15.0   \n",
       "3767   ...     15.0  0.733    1.0   16.0    17.0   15.0    4.0    0.0    5.0   \n",
       "3768   ...     90.0  0.856   25.0  112.0   137.0   58.0   37.0   14.0  137.0   \n",
       "3769   ...     86.0  0.523  131.0  318.0   449.0  122.0  114.0   30.0  135.0   \n",
       "3770   ...    196.0  0.679  135.0  270.0   405.0   99.0   62.0   58.0  189.0   \n",
       "3771   ...     39.0  0.564   43.0   81.0   124.0   42.0    7.0   21.0   61.0   \n",
       "3772   ...      5.0  0.600   11.0   24.0    35.0    4.0    2.0    5.0   17.0   \n",
       "3773   ...     40.0  0.775   15.0  110.0   125.0   36.0   15.0   16.0   78.0   \n",
       "3774   ...     49.0  0.653   41.0  118.0   159.0   30.0   14.0   33.0   66.0   \n",
       "\n",
       "         PTS  \n",
       "0      724.0  \n",
       "1       10.0  \n",
       "2     1393.0  \n",
       "3        4.0  \n",
       "4      105.0  \n",
       "5     1304.0  \n",
       "6      330.0  \n",
       "7      427.0  \n",
       "8      371.0  \n",
       "9      448.0  \n",
       "10     367.0  \n",
       "11       2.0  \n",
       "12     487.0  \n",
       "13    1943.0  \n",
       "14     218.0  \n",
       "15     722.0  \n",
       "16    1072.0  \n",
       "17      71.0  \n",
       "18     439.0  \n",
       "19     143.0  \n",
       "20     161.0  \n",
       "21     508.0  \n",
       "22     104.0  \n",
       "23     125.0  \n",
       "24      14.0  \n",
       "25     109.0  \n",
       "26     418.0  \n",
       "27     596.0  \n",
       "28    1376.0  \n",
       "29     716.0  \n",
       "...      ...  \n",
       "3745   316.0  \n",
       "3746  2558.0  \n",
       "3747    98.0  \n",
       "3748   543.0  \n",
       "3749  1309.0  \n",
       "3750  1933.0  \n",
       "3751    21.0  \n",
       "3752   346.0  \n",
       "3753   701.0  \n",
       "3754   304.0  \n",
       "3755  1421.0  \n",
       "3756   849.0  \n",
       "3757    27.0  \n",
       "3758   185.0  \n",
       "3759    13.0  \n",
       "3760   196.0  \n",
       "3761   146.0  \n",
       "3762    35.0  \n",
       "3763    57.0  \n",
       "3764   189.0  \n",
       "3765   150.0  \n",
       "3766    68.0  \n",
       "3767    68.0  \n",
       "3768   791.0  \n",
       "3769   814.0  \n",
       "3770   639.0  \n",
       "3771   178.0  \n",
       "3772    23.0  \n",
       "3773   240.0  \n",
       "3774   284.0  \n",
       "\n",
       "[3775 rows x 23 columns]"
      ]
     },
     "execution_count": 3,
     "metadata": {},
     "output_type": "execute_result"
    }
   ],
   "source": [
    "# We load our player statistics that were used to calculate the model\n",
    "linear_reg.stats"
   ]
  },
  {
   "cell_type": "markdown",
   "metadata": {},
   "source": [
    "## How distributed are our win shares?\n",
    "As mentioned previously, there are lots of outliers within the nba but the amount does not compare to the overall amount of nba players. So what does our distribution of win shares across players look like?"
   ]
  },
  {
   "cell_type": "code",
   "execution_count": 4,
   "metadata": {},
   "outputs": [
    {
     "name": "stderr",
     "output_type": "stream",
     "text": [
      "/home/watson/anaconda3/lib/python3.7/site-packages/scipy/stats/stats.py:1713: FutureWarning: Using a non-tuple sequence for multidimensional indexing is deprecated; use `arr[tuple(seq)]` instead of `arr[seq]`. In the future this will be interpreted as an array index, `arr[np.array(seq)]`, which will result either in an error or a different result.\n",
      "  return np.add.reduce(sorted[indexer] * weights, axis=axis) / sumval\n"
     ]
    },
    {
     "data": {
      "text/plain": [
       "<matplotlib.axes._subplots.AxesSubplot at 0x7f178e3a2a58>"
      ]
     },
     "execution_count": 4,
     "metadata": {},
     "output_type": "execute_result"
    },
    {
     "data": {
      "image/png": "[encoded data removed]",
      "text/plain": [
       "<Figure size 432x288 with 1 Axes>"
      ]
     },
     "metadata": {
      "needs_background": "light"
     },
     "output_type": "display_data"
    }
   ],
   "source": [
    "import seaborn as sns\n",
    "sns.distplot(linear_reg.ws)"
   ]
  },
  {
   "cell_type": "markdown",
   "metadata": {},
   "source": [
    "As you can tell, we have lot's of players with 0-5 winshares, but not too many from 5-20. This will later be problematic for our model for reasons to be explained"
   ]
  },
  {
   "cell_type": "markdown",
   "metadata": {},
   "source": [
    "## Are our stats correlated?"
   ]
  },
  {
   "cell_type": "markdown",
   "metadata": {},
   "source": [
    "How well did we pick our stats? \n",
    "\n",
    "Well, let's find out! While there were more stats than listed within our dataframe, I decided to remove all *special* statistics, meaning stats that weren't generated by players themselves but abstract statistics built on the more primitive ones like (Games, Games played, Minutes played, shots taken, FG%, etc)"
   ]
  },
  {
   "cell_type": "code",
   "execution_count": 5,
   "metadata": {},
   "outputs": [
    {
     "data": {
      "text/plain": [
       "<matplotlib.axes._subplots.AxesSubplot at 0x7f178d428470>"
      ]
     },
     "execution_count": 5,
     "metadata": {},
     "output_type": "execute_result"
    },
    {
     "data": {
      "image/png": "[encoded data removed]",
      "text/plain": [
       "<Figure size 432x288 with 2 Axes>"
      ]
     },
     "metadata": {
      "needs_background": "light"
     },
     "output_type": "display_data"
    }
   ],
   "source": [
    "corr = linear_reg.stats.corr()\n",
    "sns.heatmap(corr)"
   ]
  },
  {
   "cell_type": "markdown",
   "metadata": {},
   "source": [
    "## What does the average player look like?"
   ]
  },
  {
   "cell_type": "markdown",
   "metadata": {},
   "source": [
    "The averages for this specific dataframe reflect players from 2010 to 2017, also known as the modern NBA era. I chose this timeframe specifically because the style of play is constantly changing and what could've attributed more win shares to a player in the 90s might not be relevant to today."
   ]
  },
  {
   "cell_type": "code",
   "execution_count": 6,
   "metadata": {},
   "outputs": [
    {
     "name": "stdout",
     "output_type": "stream",
     "text": [
      "G\t|\tMean: 53.05\t|\tMax: 83.0\n",
      "GS\t|\tMean: 25.43\t|\tMax: 82.0\n",
      "MP\t|\tMean: 1229.83\t|\tMax: 3239.0\n",
      "FG\t|\tMean: 191.53\t|\tMax: 849.0\n",
      "FGA\t|\tMean: 421.58\t|\tMax: 1941.0\n",
      "FG%\t|\tMean: 0.44\t|\tMax: 1.0\n",
      "3P\t|\tMean: 38.42\t|\tMax: 402.0\n",
      "3PA\t|\tMean: 108.12\t|\tMax: 886.0\n",
      "3P%\t|\tMean: 0.25\t|\tMax: 1.0\n",
      "2P\t|\tMean: 153.11\t|\tMax: 734.0\n",
      "2PA\t|\tMean: 313.46\t|\tMax: 1459.0\n",
      "2P%\t|\tMean: 0.47\t|\tMax: 1.0\n",
      "FT\t|\tMean: 89.93\t|\tMax: 756.0\n",
      "FTA\t|\tMean: 118.64\t|\tMax: 916.0\n",
      "FT%\t|\tMean: 0.70\t|\tMax: 1.0\n",
      "ORB\t|\tMean: 55.08\t|\tMax: 440.0\n",
      "DRB\t|\tMean: 161.57\t|\tMax: 829.0\n",
      "TRB\t|\tMean: 216.66\t|\tMax: 1226.0\n",
      "AST\t|\tMean: 111.23\t|\tMax: 906.0\n",
      "STL\t|\tMean: 38.76\t|\tMax: 191.0\n",
      "BLK\t|\tMean: 24.87\t|\tMax: 269.0\n",
      "PF\t|\tMean: 103.11\t|\tMax: 332.0\n",
      "PTS\t|\tMean: 511.42\t|\tMax: 2593.0\n"
     ]
    }
   ],
   "source": [
    "output_list = []\n",
    "\n",
    "# get the mean and max value\n",
    "for column in linear_reg.stats.columns:\n",
    "    mean = linear_reg.stats[column].mean()\n",
    "    max_val = linear_reg.stats[column].max()\n",
    "    output_list.append((column, mean, max_val))\n",
    "\n",
    "# Output the results\n",
    "for data in output_list:\n",
    "    print(f\"{data[0]}\\t|\\tMean: {data[1]:.2f}\\t|\\tMax: {data[2]}\")"
   ]
  },
  {
   "cell_type": "markdown",
   "metadata": {},
   "source": [
    "## So... How well does my linear regression perform?"
   ]
  },
  {
   "cell_type": "markdown",
   "metadata": {},
   "source": [
    "Let's use some testing metrics provided by sklearn to test how well this current model performs"
   ]
  },
  {
   "cell_type": "markdown",
   "metadata": {},
   "source": [
    "### R2 score (measuring explained variance vs total variance)"
   ]
  },
  {
   "cell_type": "code",
   "execution_count": 7,
   "metadata": {},
   "outputs": [
    {
     "data": {
      "text/plain": [
       "0.919001863543143"
      ]
     },
     "execution_count": 7,
     "metadata": {},
     "output_type": "execute_result"
    }
   ],
   "source": [
    "from sklearn.metrics import mean_squared_error, r2_score\n",
    "prediction = linear_reg.regression.predict(linear_reg.features.testing)\n",
    "score = r2_score(prediction, linear_reg.target.testing)\n",
    "score"
   ]
  },
  {
   "cell_type": "markdown",
   "metadata": {},
   "source": [
    "### Mean squared error (measuring the mean squared error of our prediction and actual points)"
   ]
  },
  {
   "cell_type": "code",
   "execution_count": 8,
   "metadata": {},
   "outputs": [
    {
     "data": {
      "text/plain": [
       "0.5664219257131702"
      ]
     },
     "execution_count": 8,
     "metadata": {},
     "output_type": "execute_result"
    }
   ],
   "source": [
    "mean_squared_error(prediction, linear_reg.target.testing)"
   ]
  },
  {
   "cell_type": "markdown",
   "metadata": {},
   "source": [
    "### Well, our model does pretty well... I think?"
   ]
  },
  {
   "cell_type": "code",
   "execution_count": 9,
   "metadata": {},
   "outputs": [
    {
     "name": "stdout",
     "output_type": "stream",
     "text": [
      "Actual\t\t-\t Prediction\n",
      "[0.21876055]\t|\t[0.4]\n",
      "\n",
      "[0.61625179]\t|\t[0.]\n",
      "\n",
      "[3.65866817]\t|\t[4.1]\n",
      "\n",
      "[2.76496588]\t|\t[2.]\n",
      "\n",
      "[6.6372217]\t|\t[7.8]\n",
      "\n",
      "[0.0132434]\t|\t[0.]\n",
      "\n",
      "[0.29753161]\t|\t[0.4]\n",
      "\n",
      "[6.80618876]\t|\t[6.7]\n",
      "\n",
      "[12.84485961]\t|\t[12.]\n",
      "\n",
      "[0.7244695]\t|\t[0.]\n",
      "\n",
      "[2.22099403]\t|\t[2.5]\n",
      "\n",
      "[1.25897641]\t|\t[1.8]\n",
      "\n",
      "[4.46131236]\t|\t[4.2]\n",
      "\n",
      "[12.19059101]\t|\t[12.2]\n",
      "\n",
      "[3.12592889]\t|\t[3.3]\n",
      "\n",
      "[9.83315528]\t|\t[8.8]\n",
      "\n",
      "[-0.03590303]\t|\t[0.]\n",
      "\n",
      "[-0.01529839]\t|\t[0.1]\n",
      "\n",
      "[0.05078405]\t|\t[0.]\n",
      "\n",
      "[2.33213414]\t|\t[2.1]\n",
      "\n"
     ]
    }
   ],
   "source": [
    "testing = linear_reg.target.testing.values\n",
    "print(\"Actual\\t\\t-\\t Prediction\")\n",
    "for i in range(len(prediction[:20])):\n",
    "    print(f\"{prediction[i]}\\t|\\t{testing[i]}\")\n",
    "    print()"
   ]
  },
  {
   "cell_type": "markdown",
   "metadata": {},
   "source": [
    "## What does our regression look like?\n",
    "For that, we're going to need to reduce the dimensionality of our dataframe, as wee keep track of 23 different features and we would not be able to visualize that.\n",
    "\n",
    "Let's...\n",
    "* Obtain the best model\n",
    "* Test the model\n",
    "* Plot the model"
   ]
  },
  {
   "cell_type": "code",
   "execution_count": 10,
   "metadata": {},
   "outputs": [],
   "source": [
    "# Obtain a model type 4 (plain pca) linear regression\n",
    "pca_reg = obtain_linear_reg(model_type=4, pca_dimensions=1)"
   ]
  },
  {
   "cell_type": "code",
   "execution_count": 11,
   "metadata": {},
   "outputs": [
    {
     "data": {
      "text/plain": [
       "0.6403461490197297"
      ]
     },
     "execution_count": 11,
     "metadata": {},
     "output_type": "execute_result"
    }
   ],
   "source": [
    "prediction = pca_reg.regression.predict(pca_reg.features.testing)\n",
    "score = r2_score(prediction, pca_reg.target.testing)\n",
    "score"
   ]
  },
  {
   "cell_type": "code",
   "execution_count": 12,
   "metadata": {},
   "outputs": [
    {
     "data": {
      "text/plain": [
       "2.158654937108315"
      ]
     },
     "execution_count": 12,
     "metadata": {},
     "output_type": "execute_result"
    }
   ],
   "source": [
    "mean_squared_error(prediction, pca_reg.target.testing)"
   ]
  },
  {
   "cell_type": "code",
   "execution_count": 13,
   "metadata": {
    "scrolled": true
   },
   "outputs": [
    {
     "name": "stdout",
     "output_type": "stream",
     "text": [
      "Actual\t\t-\t Prediction\n",
      "[0.03556885]\t|\t[0.4]\n",
      "\n",
      "[1.04841639]\t|\t[0.]\n",
      "\n",
      "[3.93840851]\t|\t[4.1]\n",
      "\n",
      "[3.66400003]\t|\t[2.]\n",
      "\n",
      "[5.5535187]\t|\t[7.8]\n",
      "\n",
      "[-0.64176832]\t|\t[0.]\n",
      "\n",
      "[-0.04321633]\t|\t[0.4]\n",
      "\n",
      "[5.08040362]\t|\t[6.7]\n",
      "\n",
      "[6.15165794]\t|\t[12.]\n",
      "\n",
      "[1.2245227]\t|\t[0.]\n",
      "\n",
      "[2.03483202]\t|\t[2.5]\n",
      "\n",
      "[2.69045744]\t|\t[1.8]\n",
      "\n",
      "[3.93418802]\t|\t[4.2]\n",
      "\n",
      "[7.64033139]\t|\t[12.2]\n",
      "\n",
      "[2.95784026]\t|\t[3.3]\n",
      "\n",
      "[8.31816197]\t|\t[8.8]\n",
      "\n",
      "[-0.52483717]\t|\t[0.]\n",
      "\n",
      "[-0.61423046]\t|\t[0.1]\n",
      "\n",
      "[-0.7002316]\t|\t[0.]\n",
      "\n",
      "[3.81748871]\t|\t[2.1]\n",
      "\n"
     ]
    }
   ],
   "source": [
    "testing = pca_reg.target.testing.values\n",
    "print(\"Actual\\t\\t-\\t Prediction\")\n",
    "for i in range(len(prediction[:20])):\n",
    "    print(f\"{prediction[i]}\\t|\\t{testing[i]}\")\n",
    "    print()"
   ]
  },
  {
   "cell_type": "markdown",
   "metadata": {},
   "source": [
    "As you can see, pca doesn't perform that well on this, but we will come back to pcas performance later when we discuss improving our overall models performance"
   ]
  },
  {
   "cell_type": "markdown",
   "metadata": {},
   "source": [
    "### Visualizing"
   ]
  },
  {
   "cell_type": "code",
   "execution_count": 14,
   "metadata": {},
   "outputs": [
    {
     "name": "stderr",
     "output_type": "stream",
     "text": [
      "/home/watson/anaconda3/lib/python3.7/site-packages/scipy/stats/stats.py:1713: FutureWarning: Using a non-tuple sequence for multidimensional indexing is deprecated; use `arr[tuple(seq)]` instead of `arr[seq]`. In the future this will be interpreted as an array index, `arr[np.array(seq)]`, which will result either in an error or a different result.\n",
      "  return np.add.reduce(sorted[indexer] * weights, axis=axis) / sumval\n"
     ]
    },
    {
     "data": {
      "text/plain": [
       "<matplotlib.axes._subplots.AxesSubplot at 0x7f178d3a0d30>"
      ]
     },
     "execution_count": 14,
     "metadata": {},
     "output_type": "execute_result"
    },
    {
     "data": {
      "image/png": "[encoded data removed]",
      "text/plain": [
       "<Figure size 432x288 with 1 Axes>"
      ]
     },
     "metadata": {
      "needs_background": "light"
     },
     "output_type": "display_data"
    }
   ],
   "source": [
    "# Plot our 1 dimension reduced pca model vs our \n",
    "sns.regplot(x=pca_reg.stats['pca-1'], y=pca_reg.ws['WS'])"
   ]
  },
  {
   "cell_type": "markdown",
   "metadata": {},
   "source": [
    "## Can we improve scores?\n",
    "Of course we can. While applying pca is an effective way of reducing the dimensionality of our data and get rid of as much correlated information as possible, you can see that as we start to increase the total number of win shares, the data becomes less linear and a little bit more scattered, with the outliers not being represented that well and in a way, underestimated due to the weight of all the average player based samples.\n"
   ]
  },
  {
   "cell_type": "code",
   "execution_count": 15,
   "metadata": {},
   "outputs": [],
   "source": [
    "# Obtain a model type 5 (standard scaled pca) and model type 6 (MinMax scaled pca) linear regressions\n",
    "standard_pca_reg = obtain_linear_reg(model_type=5, pca_dimensions=1)\n",
    "mm_pca_reg = obtain_linear_reg(model_type=6, pca_dimensions=1)"
   ]
  },
  {
   "cell_type": "markdown",
   "metadata": {},
   "source": [
    "### Testing standard scaled model"
   ]
  },
  {
   "cell_type": "code",
   "execution_count": 16,
   "metadata": {},
   "outputs": [
    {
     "data": {
      "text/plain": [
       "0.7162965551220896"
      ]
     },
     "execution_count": 16,
     "metadata": {},
     "output_type": "execute_result"
    }
   ],
   "source": [
    "## Evaluation of standard model\n",
    "prediction = standard_pca_reg.regression.predict(standard_pca_reg.features.testing)\n",
    "score = r2_score(prediction, standard_pca_reg.target.testing)\n",
    "score"
   ]
  },
  {
   "cell_type": "code",
   "execution_count": 17,
   "metadata": {},
   "outputs": [
    {
     "data": {
      "text/plain": [
       "1.7696876062378268"
      ]
     },
     "execution_count": 17,
     "metadata": {},
     "output_type": "execute_result"
    }
   ],
   "source": [
    "mean_squared_error(prediction, standard_pca_reg.target.testing)"
   ]
  },
  {
   "cell_type": "code",
   "execution_count": 18,
   "metadata": {},
   "outputs": [
    {
     "name": "stderr",
     "output_type": "stream",
     "text": [
      "/home/watson/anaconda3/lib/python3.7/site-packages/scipy/stats/stats.py:1713: FutureWarning: Using a non-tuple sequence for multidimensional indexing is deprecated; use `arr[tuple(seq)]` instead of `arr[seq]`. In the future this will be interpreted as an array index, `arr[np.array(seq)]`, which will result either in an error or a different result.\n",
      "  return np.add.reduce(sorted[indexer] * weights, axis=axis) / sumval\n"
     ]
    },
    {
     "data": {
      "text/plain": [
       "<matplotlib.axes._subplots.AxesSubplot at 0x7f178c1efe48>"
      ]
     },
     "execution_count": 18,
     "metadata": {},
     "output_type": "execute_result"
    },
    {
     "data": {
      "image/png": "[encoded data removed]",
      "text/plain": [
       "<Figure size 432x288 with 1 Axes>"
      ]
     },
     "metadata": {
      "needs_background": "light"
     },
     "output_type": "display_data"
    }
   ],
   "source": [
    "sns.regplot(x=standard_pca_reg.stats['pca-1'], y=standard_pca_reg.ws['WS'])"
   ]
  },
  {
   "cell_type": "markdown",
   "metadata": {},
   "source": [
    "### Testing our MinMax scaled model"
   ]
  },
  {
   "cell_type": "code",
   "execution_count": 19,
   "metadata": {},
   "outputs": [
    {
     "data": {
      "text/plain": [
       "0.6607641164014089"
      ]
     },
     "execution_count": 19,
     "metadata": {},
     "output_type": "execute_result"
    }
   ],
   "source": [
    "## Evaluation of standard model\n",
    "prediction = mm_pca_reg.regression.predict(mm_pca_reg.features.testing)\n",
    "score = r2_score(prediction, mm_pca_reg.target.testing)\n",
    "score"
   ]
  },
  {
   "cell_type": "code",
   "execution_count": 20,
   "metadata": {},
   "outputs": [
    {
     "data": {
      "text/plain": [
       "2.0691521053005295"
      ]
     },
     "execution_count": 20,
     "metadata": {},
     "output_type": "execute_result"
    }
   ],
   "source": [
    "mean_squared_error(prediction, mm_pca_reg.target.testing)"
   ]
  },
  {
   "cell_type": "code",
   "execution_count": 21,
   "metadata": {},
   "outputs": [
    {
     "name": "stderr",
     "output_type": "stream",
     "text": [
      "/home/watson/anaconda3/lib/python3.7/site-packages/scipy/stats/stats.py:1713: FutureWarning: Using a non-tuple sequence for multidimensional indexing is deprecated; use `arr[tuple(seq)]` instead of `arr[seq]`. In the future this will be interpreted as an array index, `arr[np.array(seq)]`, which will result either in an error or a different result.\n",
      "  return np.add.reduce(sorted[indexer] * weights, axis=axis) / sumval\n"
     ]
    },
    {
     "data": {
      "text/plain": [
       "<matplotlib.axes._subplots.AxesSubplot at 0x7f178c1df630>"
      ]
     },
     "execution_count": 21,
     "metadata": {},
     "output_type": "execute_result"
    },
    {
     "data": {
      "image/png": "[encoded data removed]",
      "text/plain": [
       "<Figure size 432x288 with 1 Axes>"
      ]
     },
     "metadata": {
      "needs_background": "light"
     },
     "output_type": "display_data"
    }
   ],
   "source": [
    "sns.regplot(x=mm_pca_reg.stats['pca-1'], y=pca_reg.ws['WS'])"
   ]
  },
  {
   "cell_type": "markdown",
   "metadata": {},
   "source": [
    "### Information preservation\n",
    "At the cost of reducing the dimensionality of our data, we lose information. Luckily, our built in function allows us to specify the minimum amount of information preservation we want but will have to almost certaintly use more than one dimension."
   ]
  },
  {
   "cell_type": "code",
   "execution_count": 22,
   "metadata": {},
   "outputs": [
    {
     "name": "stdout",
     "output_type": "stream",
     "text": [
      "To preserve 95.00% information, we need: 2 dimensions\n",
      "To preserve 96.00% information, we need: 3 dimensions\n",
      "To preserve 97.00% information, we need: 3 dimensions\n",
      "To preserve 98.00% information, we need: 3 dimensions\n",
      "To preserve 99.00% information, we need: 5 dimensions\n"
     ]
    }
   ],
   "source": [
    "# Find us a dimension that preserves the amount of information we're looking for.\n",
    "thresholds = [.95, .96, .97, .98, .99]\n",
    "results = []\n",
    "for threshold in thresholds:\n",
    "    model = obtain_linear_reg(model_type=4, pca_dimensions=0, pca_threshold=threshold)\n",
    "    print(f\"To preserve {threshold * 100:.2f}% information, we need: {len(model.stats.columns)} dimensions\")"
   ]
  },
  {
   "cell_type": "markdown",
   "metadata": {},
   "source": [
    "### Standard scaling"
   ]
  },
  {
   "cell_type": "code",
   "execution_count": 23,
   "metadata": {},
   "outputs": [
    {
     "name": "stdout",
     "output_type": "stream",
     "text": [
      "To preserve 95.00% information, we need: 9 dimensions\n",
      "To preserve 96.00% information, we need: 10 dimensions\n",
      "To preserve 97.00% information, we need: 11 dimensions\n",
      "To preserve 98.00% information, we need: 12 dimensions\n",
      "To preserve 99.00% information, we need: 14 dimensions\n"
     ]
    }
   ],
   "source": [
    "# Find us a dimension that preserves the amount of information we're looking for. \n",
    "thresholds = [.95, .96, .97, .98, .99]\n",
    "results = []\n",
    "for threshold in thresholds:\n",
    "    model = obtain_linear_reg(model_type=5, pca_dimensions=0, pca_threshold=threshold)\n",
    "    print(f\"To preserve {threshold * 100:.2f}% information, we need: {len(model.stats.columns)} dimensions\")"
   ]
  },
  {
   "cell_type": "markdown",
   "metadata": {},
   "source": [
    "### MinMax scaling"
   ]
  },
  {
   "cell_type": "code",
   "execution_count": 24,
   "metadata": {},
   "outputs": [
    {
     "name": "stdout",
     "output_type": "stream",
     "text": [
      "To preserve 95.00% information, we need: 8 dimensions\n",
      "To preserve 96.00% information, we need: 9 dimensions\n",
      "To preserve 97.00% information, we need: 10 dimensions\n",
      "To preserve 98.00% information, we need: 11 dimensions\n",
      "To preserve 99.00% information, we need: 13 dimensions\n"
     ]
    }
   ],
   "source": [
    "# Find us a dimension that preserves the amount of information we're looking for.\n",
    "thresholds = [.95, .96, .97, .98, .99]\n",
    "results = []\n",
    "for threshold in thresholds:\n",
    "    model = obtain_linear_reg(model_type=6, pca_dimensions=0, pca_threshold=threshold)\n",
    "    print(f\"To preserve {threshold * 100:.2f}% information, we need: {len(model.stats.columns)} dimensions\")"
   ]
  },
  {
   "cell_type": "markdown",
   "metadata": {},
   "source": [
    "### How well does a two dimensional PCA model perform?"
   ]
  },
  {
   "cell_type": "code",
   "execution_count": 25,
   "metadata": {},
   "outputs": [],
   "source": [
    "pca_model = obtain_linear_reg(model_type=4, pca_dimensions=2)"
   ]
  },
  {
   "cell_type": "code",
   "execution_count": 26,
   "metadata": {},
   "outputs": [
    {
     "data": {
      "text/plain": [
       "0.6614814124770232"
      ]
     },
     "execution_count": 26,
     "metadata": {},
     "output_type": "execute_result"
    }
   ],
   "source": [
    "## Evaluation of standard model\n",
    "prediction = pca_model.regression.predict(pca_model.features.testing)\n",
    "score = r2_score(prediction, pca_model.target.testing)\n",
    "score"
   ]
  },
  {
   "cell_type": "code",
   "execution_count": 27,
   "metadata": {},
   "outputs": [
    {
     "data": {
      "text/plain": [
       "2.0634276100484557"
      ]
     },
     "execution_count": 27,
     "metadata": {},
     "output_type": "execute_result"
    }
   ],
   "source": [
    "mean_squared_error(prediction, pca_model.target.testing)"
   ]
  },
  {
   "cell_type": "markdown",
   "metadata": {},
   "source": [
    "### Hmmmm, still not good. How about with standard scaling?"
   ]
  },
  {
   "cell_type": "code",
   "execution_count": 28,
   "metadata": {},
   "outputs": [],
   "source": [
    "std_pca_model = obtain_linear_reg(model_type=5, pca_dimensions=2)"
   ]
  },
  {
   "cell_type": "code",
   "execution_count": 29,
   "metadata": {},
   "outputs": [
    {
     "data": {
      "text/plain": [
       "0.7153017404192952"
      ]
     },
     "execution_count": 29,
     "metadata": {},
     "output_type": "execute_result"
    }
   ],
   "source": [
    "## Evaluation of standard model\n",
    "prediction = std_pca_model.regression.predict(std_pca_model.features.testing)\n",
    "score = r2_score(prediction, std_pca_model.target.testing)\n",
    "score"
   ]
  },
  {
   "cell_type": "code",
   "execution_count": 30,
   "metadata": {},
   "outputs": [
    {
     "data": {
      "text/plain": [
       "1.766921137202446"
      ]
     },
     "execution_count": 30,
     "metadata": {},
     "output_type": "execute_result"
    }
   ],
   "source": [
    "mean_squared_error(prediction, std_pca_model.target.testing)"
   ]
  },
  {
   "cell_type": "markdown",
   "metadata": {},
   "source": [
    "### It doesn't seem to be helping\n",
    "Looking back on the information preservation section, it seems like we cannot reduce to 2-3 dimensions if we're going to try and preserve information. Let's evaluate each model with a minimum of 95% information preservation"
   ]
  },
  {
   "cell_type": "markdown",
   "metadata": {},
   "source": [
    "### Standard scaled PCA with 95% information preservation"
   ]
  },
  {
   "cell_type": "code",
   "execution_count": 31,
   "metadata": {},
   "outputs": [],
   "source": [
    "std_pca_model = obtain_linear_reg(model_type=5, pca_dimensions=9)"
   ]
  },
  {
   "cell_type": "code",
   "execution_count": 32,
   "metadata": {},
   "outputs": [
    {
     "data": {
      "text/plain": [
       "0.7672303871933266"
      ]
     },
     "execution_count": 32,
     "metadata": {},
     "output_type": "execute_result"
    }
   ],
   "source": [
    "## Evaluation of standard model\n",
    "prediction = std_pca_model.regression.predict(std_pca_model.features.testing)\n",
    "score = r2_score(prediction, std_pca_model.target.testing)\n",
    "score"
   ]
  },
  {
   "cell_type": "code",
   "execution_count": 33,
   "metadata": {},
   "outputs": [
    {
     "data": {
      "text/plain": [
       "1.4480056429535213"
      ]
     },
     "execution_count": 33,
     "metadata": {},
     "output_type": "execute_result"
    }
   ],
   "source": [
    "mean_squared_error(prediction, std_pca_model.target.testing)"
   ]
  },
  {
   "cell_type": "markdown",
   "metadata": {},
   "source": [
    "### MinMax scaled PCA with 95% information preservation"
   ]
  },
  {
   "cell_type": "code",
   "execution_count": 34,
   "metadata": {},
   "outputs": [],
   "source": [
    "mm_pca_model = obtain_linear_reg(model_type=6, pca_dimensions=8)"
   ]
  },
  {
   "cell_type": "code",
   "execution_count": 35,
   "metadata": {},
   "outputs": [
    {
     "data": {
      "text/plain": [
       "0.7238444009548147"
      ]
     },
     "execution_count": 35,
     "metadata": {},
     "output_type": "execute_result"
    }
   ],
   "source": [
    "## Evaluation of standard model\n",
    "prediction = mm_pca_model.regression.predict(mm_pca_model.features.testing)\n",
    "score = r2_score(prediction, mm_pca_model.target.testing)\n",
    "score"
   ]
  },
  {
   "cell_type": "code",
   "execution_count": 36,
   "metadata": {},
   "outputs": [
    {
     "data": {
      "text/plain": [
       "1.7144971399114575"
      ]
     },
     "execution_count": 36,
     "metadata": {},
     "output_type": "execute_result"
    }
   ],
   "source": [
    "mean_squared_error(prediction, mm_pca_model.target.testing)"
   ]
  },
  {
   "cell_type": "markdown",
   "metadata": {},
   "source": [
    "# Overall conclusions, comments, and future additions"
   ]
  },
  {
   "cell_type": "markdown",
   "metadata": {},
   "source": [
    "* Building a library around my dataset was really fun\n",
    "* Extending the library to do a lot more with the dataset + be more flexible\n",
    "* Plan to utilize other kernels to better assist representation for higher winshare count players\n",
    "* Targeting other special statistics like value over replacement, OWS, DWS, etc"
   ]
  },
  {
   "cell_type": "markdown",
   "metadata": {},
   "source": [
    "## Thank you!"
   ]
  }
 ],
 "metadata": {
  "kernelspec": {
   "display_name": "Python 3",
   "language": "python",
   "name": "python3"
  },
  "language_info": {
   "codemirror_mode": {
    "name": "ipython",
    "version": 3
   },
   "file_extension": ".py",
   "mimetype": "text/x-python",
   "name": "python",
   "nbconvert_exporter": "python",
   "pygments_lexer": "ipython3",
   "version": "3.7.1"
  }
 },
 "nbformat": 4,
 "nbformat_minor": 2
}
